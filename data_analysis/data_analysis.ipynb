{
 "cells": [
  {
   "cell_type": "markdown",
   "id": "05c884bc",
   "metadata": {},
   "source": [
    "# Задача 10. Рекомендательный сервис для определения оптимальных мест размещения постаматов в рамках проекта \"Московский постамат\"\n",
    "\n",
    "**Задача:** Разработать сервис для предоставления рекомендаций по оптимальному размещению постаматов возле городских киосков или на городской территории с точки зрения потенциальной востребованности постамата у жителей города (далее – сервис). \n",
    "\n",
    "\n",
    "Сервис позволит повысить востребованность устанавливаемых постаматов, а также обеспечить доступность удобного и безопасного способа доставки для наибольшего количества москвичей."
   ]
  },
  {
   "cell_type": "markdown",
   "id": "a6ddd034",
   "metadata": {},
   "source": [
    "## 1. Предварительная обработка данных"
   ]
  },
  {
   "cell_type": "code",
   "execution_count": 86,
   "id": "825de02d",
   "metadata": {},
   "outputs": [],
   "source": [
    "import pandas as pd\n",
    "import numpy as np\n",
    "import seaborn as sns\n",
    "\n",
    "import re\n",
    "\n",
    "from tqdm import tqdm\n",
    "\n",
    "sns.set()"
   ]
  },
  {
   "cell_type": "code",
   "execution_count": 539,
   "id": "7b6c6e07",
   "metadata": {},
   "outputs": [
    {
     "name": "stdout",
     "output_type": "stream",
     "text": [
      "entrances_and_exits_of_moscow_central_diameter_stations.csv\r\n",
      "houses_of_culture_and_clubs.csv\r\n",
      "libraries.csv\r\n",
      "multifunctional_centers.csv\r\n",
      "non_stationary_trade_objects.csv\r\n",
      "printed_products.csv\r\n",
      "sport_objects.csv\r\n"
     ]
    }
   ],
   "source": [
    "! ls ./data/geojson_source"
   ]
  },
  {
   "cell_type": "code",
   "execution_count": 5,
   "id": "a55056d9",
   "metadata": {},
   "outputs": [],
   "source": [
    "data_path = './data/geojson_source/'\n",
    "datasets = ['houses_of_culture_and_clubs', 'houses_reester',\n",
    "            'libraries', 'multifunctional_centers', 'non_stationary_trade_objects',\n",
    "            'printed_products', 'sport_objects',\n",
    "            'entrances_and_exits_of_moscow_central_diameter_stations']"
   ]
  },
  {
   "cell_type": "code",
   "execution_count": 6,
   "id": "f5c4c69e",
   "metadata": {},
   "outputs": [],
   "source": [
    "houses_of_culture_and_clubs = pd.read_csv(f'{data_path}houses_of_culture_and_clubs.csv')\n",
    "libraries = pd.read_csv(f'{data_path}libraries.csv')\n",
    "multifunctional_centers = pd.read_csv(f'{data_path}multifunctional_centers.csv')\n",
    "non_stationary_trade_objects = pd.read_csv(f'{data_path}non_stationary_trade_objects.csv')\n",
    "printed_products = pd.read_csv(f'{data_path}printed_products.csv')\n",
    "sport_objects = pd.read_csv(f'{data_path}sport_objects.csv')\n",
    "entrances_and_exits_of_mcd = pd.read_csv(f'{data_path}entrances_and_exits_of_moscow_central_diameter_stations.csv')"
   ]
  },
  {
   "cell_type": "markdown",
   "id": "551c4dd7",
   "metadata": {},
   "source": [
    "## 1.1 Обработка типов данных и пропусков"
   ]
  },
  {
   "cell_type": "markdown",
   "id": "872dab85",
   "metadata": {},
   "source": [
    "### 1.1.1 Обработка данных в формате geojson"
   ]
  },
  {
   "cell_type": "code",
   "execution_count": 7,
   "id": "c52828c2",
   "metadata": {},
   "outputs": [],
   "source": [
    "import json"
   ]
  },
  {
   "cell_type": "code",
   "execution_count": 97,
   "id": "9b757cac",
   "metadata": {},
   "outputs": [],
   "source": [
    "def flatten_json(nested_json, exclude=['']):\n",
    "    \"\"\"Flatten json object with nested keys into a single level.\n",
    "        Args:\n",
    "            nested_json: A nested json object.\n",
    "            exclude: Keys to exclude from output.\n",
    "        Returns:\n",
    "            The flattened json object if successful, None otherwise.\n",
    "    \"\"\"\n",
    "    out = {}\n",
    "\n",
    "    def flatten(x, name='', exclude=exclude):\n",
    "        if type(x) is dict:\n",
    "            for a in x:\n",
    "                if a not in exclude: flatten(x[a], name + a + '_')\n",
    "        elif type(x) is list:\n",
    "            i = 0\n",
    "            for a in x:\n",
    "                flatten(a, name + str(i) + '_')\n",
    "                i += 1\n",
    "        else:\n",
    "            out[name[:-1]] = x\n",
    "\n",
    "    flatten(nested_json)\n",
    "    return out\n",
    "\n",
    "def remove_extra_geometry_coords(df, pattern=\"geometry_coordinates_*.\"):\n",
    "    cols = df.columns\n",
    "    pattern = re.compile(pattern)\n",
    "    new_cols = [x for x in cols if not pattern.match(x)]\n",
    "    if ((len(df.columns) - len(new_cols)) > 2) or ('geometry_coordinates_0_0' in cols):\n",
    "        new_cols += ['geometry_coordinates_0_0', 'geometry_coordinates_0_1']\n",
    "    else:\n",
    "        new_cols += ['geometry_coordinates_0', 'geometry_coordinates_1']\n",
    "    for col_name in ['properties_RowId', 'properties_VersionNumber', 'geometry_type', 'type']:\n",
    "        new_cols.remove(col_name)\n",
    "    new_df = df[new_cols]\n",
    "    new_df.columns = list(new_df.columns[:-2]) + ['lon', 'lat']\n",
    "    return new_df\n",
    "\n",
    "def make_final_df(df):\n",
    "    final_df = pd.DataFrame()\n",
    "    for item in tqdm(df['features']):\n",
    "        final_df = final_df.append(flatten_json(json.loads(item.replace('\\\"', '\\\\\"').replace('\\'', '\\\"')\\\n",
    "                                                           .replace(\"None\", \"null\"))), ignore_index=True)\n",
    "    return remove_extra_geometry_coords(final_df)"
   ]
  },
  {
   "cell_type": "code",
   "execution_count": 102,
   "id": "ac3faf56",
   "metadata": {},
   "outputs": [
    {
     "name": "stderr",
     "output_type": "stream",
     "text": [
      "100%|██████████| 78/78 [00:00<00:00, 111.92it/s]\n",
      "100%|██████████| 270/270 [00:02<00:00, 116.61it/s]\n",
      "100%|██████████| 217/217 [00:01<00:00, 151.23it/s]\n",
      "100%|██████████| 139/139 [00:01<00:00, 118.38it/s]\n",
      "100%|██████████| 1815/1815 [00:16<00:00, 109.65it/s]\n",
      "100%|██████████| 2515/2515 [00:24<00:00, 100.85it/s]\n",
      "100%|██████████| 346/346 [16:15<00:00,  2.82s/it]\n"
     ]
    }
   ],
   "source": [
    "houses_of_culture_and_clubs_df = make_final_df(houses_of_culture_and_clubs)\n",
    "libraries_df = make_final_df(libraries)\n",
    "entrances_and_exits_of_mcd_df = make_final_df(entrances_and_exits_of_mcd)\n",
    "multifunctional_centers_df = make_final_df(multifunctional_centers)\n",
    "printed_products_df = make_final_df(printed_products)\n",
    "non_stationary_trade_objects_df = make_final_df(non_stationary_trade_objects)\n",
    "sport_objects = make_final_df(sport_objects)"
   ]
  },
  {
   "cell_type": "markdown",
   "id": "821bd944",
   "metadata": {},
   "source": [
    "*Очистим данные от лишних пустых колонок.*"
   ]
  },
  {
   "cell_type": "code",
   "execution_count": 543,
   "id": "de1580ba",
   "metadata": {},
   "outputs": [],
   "source": [
    "new_cols = []\n",
    "for col in sport_objects.columns:\n",
    "    empty_share = (sport_objects[col].isna() * 1).sum() / len(sport_objects)\n",
    "    if empty_share < 0.5:\n",
    "        new_cols.append(col)"
   ]
  },
  {
   "cell_type": "markdown",
   "id": "d3633ddd",
   "metadata": {},
   "source": [
    "### 1.1.2 Обработка данных в формате raw csv"
   ]
  },
  {
   "cell_type": "code",
   "execution_count": 169,
   "id": "4ed784a9",
   "metadata": {},
   "outputs": [],
   "source": [
    "# houses_of_culture_and_clubs = pd.read_csv(f'{data_path}houses_of_culture_and_clubs.csv')\n",
    "# libraries = pd.read_csv(f'{data_path}libraries.csv')\n",
    "# multifunctional_centers = pd.read_csv(f'{data_path}multifunctional_centers.csv')\n",
    "# non_stationary_trade_objects = pd.read_csv(f'{data_path}non_stationary_trade_objects.csv')\n",
    "# printed_products = pd.read_csv(f'{data_path}printed_products.csv')\n",
    "# sport_objects = pd.read_csv(f'{data_path}sport_objects.csv')\n",
    "# entrances_and_exits_of_mcd = pd.read_csv(f'{data_path}entrances_and_exits_of_moscow_central_diameter_stations.csv')"
   ]
  },
  {
   "cell_type": "code",
   "execution_count": 102,
   "id": "836d633f",
   "metadata": {},
   "outputs": [],
   "source": [
    "# houses_reester['address'].to_csv('addresses.csv')\n",
    "# houses_reester['address'][houses_reester['address'].apply(lambda x: x.find('Липецкая') != -1)]"
   ]
  },
  {
   "cell_type": "code",
   "execution_count": 173,
   "id": "146c7e7a",
   "metadata": {},
   "outputs": [
    {
     "name": "stdout",
     "output_type": "stream",
     "text": [
      "address_reester.xlsx                 non_stationary_trade_objects_raw.csv\r\n",
      "houses_of_culture_and_clubs_raw.csv  printed_products_raw.csv\r\n",
      "libraries_raw.csv                    sport_objects_raw.csv\r\n",
      "mfc_raw.csv                          \u001b[34mstations\u001b[m\u001b[m\r\n"
     ]
    }
   ],
   "source": [
    "! ls ./data/raw"
   ]
  },
  {
   "cell_type": "code",
   "execution_count": 545,
   "id": "1d9f9278",
   "metadata": {},
   "outputs": [],
   "source": [
    "import warnings\n",
    "warnings.filterwarnings(\"ignore\")"
   ]
  },
  {
   "cell_type": "code",
   "execution_count": 558,
   "id": "17e79add",
   "metadata": {},
   "outputs": [],
   "source": [
    "houses_of_culture_and_clubs_raw = pd.read_csv('./data/raw/houses_of_culture_and_clubs_raw.csv')\n",
    "address_reester_raw = pd.read_csv('./data/raw/address_reester_raw.csv')\n",
    "libraries_raw = pd.read_csv('./data/raw/libraries_raw.csv')\n",
    "multifunctional_centers_raw = pd.read_csv('./data/raw/mfc_raw.csv')\n",
    "non_stationary_trade_objects_raw = pd.read_csv('./data/raw/non_stationary_trade_objects_raw.csv')\n",
    "printed_products_raw = pd.read_csv('./data/raw/printed_products_raw.csv')\n",
    "sport_objects_raw = pd.read_csv('./data/raw/sport_objects_raw.csv')"
   ]
  },
  {
   "cell_type": "code",
   "execution_count": 559,
   "id": "55c79637",
   "metadata": {},
   "outputs": [],
   "source": [
    "sport_objects_raw = sport_objects_raw.iloc[1:, :].reset_index().iloc[:, 1:]\n",
    "address_reester_raw = address_reester_raw.iloc[1:, :].reset_index().iloc[:, 1:]"
   ]
  },
  {
   "cell_type": "markdown",
   "id": "3a823314",
   "metadata": {},
   "source": [
    "В этом формате большое количество столбцов заполнено null-aми."
   ]
  },
  {
   "cell_type": "code",
   "execution_count": 548,
   "id": "8c758453",
   "metadata": {},
   "outputs": [
    {
     "name": "stdout",
     "output_type": "stream",
     "text": [
      "<class 'pandas.core.frame.DataFrame'>\n",
      "RangeIndex: 270 entries, 0 to 269\n",
      "Data columns (total 39 columns):\n",
      " #   Column                          Non-Null Count  Dtype  \n",
      "---  ------                          --------------  -----  \n",
      " 0   Category                        270 non-null    object \n",
      " 1   CommonName                      270 non-null    object \n",
      " 2   FullName                        270 non-null    object \n",
      " 3   ShortName                       270 non-null    object \n",
      " 4   OrgInfo                         270 non-null    object \n",
      " 5   ObjectAddress                   270 non-null    object \n",
      " 6   ChiefOrg                        267 non-null    object \n",
      " 7   ChiefName                       270 non-null    object \n",
      " 8   ChiefPosition                   270 non-null    object \n",
      " 9   PublicPhone                     270 non-null    object \n",
      " 10  Fax                             118 non-null    object \n",
      " 11  Email                           270 non-null    object \n",
      " 12  WorkingHours                    270 non-null    object \n",
      " 13  ClarificationOfWorkingHours     261 non-null    object \n",
      " 14  WebSite                         270 non-null    object \n",
      " 15  NumOfSeats                      242 non-null    float64\n",
      " 16  NumOfReaders                    249 non-null    float64\n",
      " 17  NumOfVisitors                   249 non-null    float64\n",
      " 18  global_id                       270 non-null    int64  \n",
      " 19  Category_en                     0 non-null      float64\n",
      " 20  CommonName_en                   0 non-null      float64\n",
      " 21  FullName_en                     0 non-null      float64\n",
      " 22  ShortName_en                    0 non-null      float64\n",
      " 23  OrgInfo_en                      0 non-null      float64\n",
      " 24  ObjectAddress_en                0 non-null      float64\n",
      " 25  ChiefOrg_en                     0 non-null      float64\n",
      " 26  ChiefName_en                    0 non-null      float64\n",
      " 27  ChiefPosition_en                0 non-null      float64\n",
      " 28  PublicPhone_en                  0 non-null      float64\n",
      " 29  Fax_en                          0 non-null      float64\n",
      " 30  Email_en                        0 non-null      float64\n",
      " 31  WorkingHours_en                 0 non-null      float64\n",
      " 32  ClarificationOfWorkingHours_en  0 non-null      float64\n",
      " 33  WebSite_en                      0 non-null      float64\n",
      " 34  NumOfSeats_en                   0 non-null      float64\n",
      " 35  NumOfReaders_en                 0 non-null      float64\n",
      " 36  NumOfVisitors_en                0 non-null      float64\n",
      " 37  geodata_center                  0 non-null      float64\n",
      " 38  geoarea                         0 non-null      float64\n",
      "dtypes: float64(23), int64(1), object(15)\n",
      "memory usage: 82.4+ KB\n"
     ]
    }
   ],
   "source": [
    "libraries_raw.info()"
   ]
  },
  {
   "cell_type": "code",
   "execution_count": 549,
   "id": "64654ce9",
   "metadata": {},
   "outputs": [
    {
     "name": "stdout",
     "output_type": "stream",
     "text": [
      "mcd_station.csv            metro_station.csv\r\n",
      "metro_passenger_flow.csv   metro_station_entrance.csv\r\n"
     ]
    }
   ],
   "source": [
    "! ls ./data/raw/stations"
   ]
  },
  {
   "cell_type": "code",
   "execution_count": 707,
   "id": "0177da2e",
   "metadata": {},
   "outputs": [],
   "source": [
    "mcd_station_raw = pd.read_csv('./data/raw/stations/mcd_station.csv')\n",
    "metro_station_raw = pd.read_csv('./data/raw/stations/metro_station.csv')\n",
    "metro_station_entrance_raw = pd.read_csv('./data/raw/stations/metro_station_entrance.csv')\n",
    "metro_passenger_flow_raw = pd.read_csv('./data/raw/stations/metro_passenger_flow.csv')"
   ]
  },
  {
   "cell_type": "code",
   "execution_count": 551,
   "id": "bf6b6bca",
   "metadata": {},
   "outputs": [],
   "source": [
    "def remove_extra_en_fields(df, pattern=\".*_en\", extra=True):\n",
    "    cols = df.columns\n",
    "    pattern = re.compile(pattern)\n",
    "    new_cols = [x for x in cols if not pattern.match(x)]\n",
    "    if extra:\n",
    "        for col_name in ['global_id', 'geodata_center', 'geoarea']:\n",
    "            new_cols.remove(col_name)\n",
    "    new_df = df[new_cols]\n",
    "    return new_df"
   ]
  },
  {
   "cell_type": "code",
   "execution_count": 708,
   "id": "8530d7b8",
   "metadata": {},
   "outputs": [],
   "source": [
    "mcd_station_raw = remove_extra_en_fields(mcd_station_raw)\n",
    "metro_station_raw = remove_extra_en_fields(metro_station_raw)\n",
    "metro_station_entrance_raw = remove_extra_en_fields(metro_station_entrance_raw)\n",
    "metro_passenger_flow_raw = remove_extra_en_fields(metro_passenger_flow_raw, extra=False)"
   ]
  },
  {
   "cell_type": "code",
   "execution_count": 560,
   "id": "6f660bbf",
   "metadata": {},
   "outputs": [],
   "source": [
    "houses_of_culture_and_clubs_raw = remove_extra_en_fields(houses_of_culture_and_clubs_raw)\n",
    "address_reester_raw = remove_extra_en_fields(address_reester_raw)\n",
    "libraries_raw = remove_extra_en_fields(libraries_raw)\n",
    "multifunctional_centers_raw = remove_extra_en_fields(multifunctional_centers_raw)\n",
    "non_stationary_trade_objects_raw = remove_extra_en_fields(non_stationary_trade_objects_raw)\n",
    "printed_products_raw = remove_extra_en_fields(printed_products_raw)\n",
    "sport_objects_raw = remove_extra_en_fields(sport_objects_raw)"
   ]
  },
  {
   "cell_type": "code",
   "execution_count": 561,
   "id": "417a0c0a",
   "metadata": {},
   "outputs": [
    {
     "data": {
      "text/html": [
       "<div>\n",
       "<style scoped>\n",
       "    .dataframe tbody tr th:only-of-type {\n",
       "        vertical-align: middle;\n",
       "    }\n",
       "\n",
       "    .dataframe tbody tr th {\n",
       "        vertical-align: top;\n",
       "    }\n",
       "\n",
       "    .dataframe thead th {\n",
       "        text-align: right;\n",
       "    }\n",
       "</style>\n",
       "<table border=\"1\" class=\"dataframe\">\n",
       "  <thead>\n",
       "    <tr style=\"text-align: right;\">\n",
       "      <th></th>\n",
       "      <th>Category</th>\n",
       "      <th>CommonName</th>\n",
       "      <th>FullName</th>\n",
       "      <th>ShortName</th>\n",
       "      <th>OrgInfo</th>\n",
       "      <th>ObjectAddress</th>\n",
       "      <th>ChiefOrg</th>\n",
       "      <th>ChiefName</th>\n",
       "      <th>ChiefPosition</th>\n",
       "      <th>PublicPhone</th>\n",
       "      <th>Fax</th>\n",
       "      <th>Email</th>\n",
       "      <th>WorkingHours</th>\n",
       "      <th>ClarificationOfWorkingHours</th>\n",
       "      <th>WebSite</th>\n",
       "      <th>NumOfSeats</th>\n",
       "      <th>NumOfReaders</th>\n",
       "      <th>NumOfVisitors</th>\n",
       "    </tr>\n",
       "  </thead>\n",
       "  <tbody>\n",
       "    <tr>\n",
       "      <th>0</th>\n",
       "      <td>Библиотека</td>\n",
       "      <td>Библиотека №140</td>\n",
       "      <td>Государственное бюджетное учреждение культуры ...</td>\n",
       "      <td>ГБУК г. Москвы «ОКЦ ЮАО», Библиотека №140</td>\n",
       "      <td>ChiefPhone:(495) 682-44-22\\n FullName:Государс...</td>\n",
       "      <td>AdmArea:Южный административный округ\\n Distric...</td>\n",
       "      <td>Государственное бюджетное учреждение культуры ...</td>\n",
       "      <td>Алмазова-Долженко Людмила Константиновна</td>\n",
       "      <td>заведующий</td>\n",
       "      <td>PublicPhone:(495) 682-42-22</td>\n",
       "      <td>NaN</td>\n",
       "      <td>Email:140libzav@cbsuao.ru</td>\n",
       "      <td>DayWeek:понедельник\\n WorkHours:выходной\\n \\n ...</td>\n",
       "      <td>Последняя пятница месяца - санитарный день.</td>\n",
       "      <td>bibliouao.ru</td>\n",
       "      <td>30.0</td>\n",
       "      <td>6103.0</td>\n",
       "      <td>45840.0</td>\n",
       "    </tr>\n",
       "  </tbody>\n",
       "</table>\n",
       "</div>"
      ],
      "text/plain": [
       "     Category       CommonName  \\\n",
       "0  Библиотека  Библиотека №140   \n",
       "\n",
       "                                            FullName  \\\n",
       "0  Государственное бюджетное учреждение культуры ...   \n",
       "\n",
       "                                   ShortName  \\\n",
       "0  ГБУК г. Москвы «ОКЦ ЮАО», Библиотека №140   \n",
       "\n",
       "                                             OrgInfo  \\\n",
       "0  ChiefPhone:(495) 682-44-22\\n FullName:Государс...   \n",
       "\n",
       "                                       ObjectAddress  \\\n",
       "0  AdmArea:Южный административный округ\\n Distric...   \n",
       "\n",
       "                                            ChiefOrg  \\\n",
       "0  Государственное бюджетное учреждение культуры ...   \n",
       "\n",
       "                                  ChiefName ChiefPosition  \\\n",
       "0  Алмазова-Долженко Людмила Константиновна    заведующий   \n",
       "\n",
       "                   PublicPhone  Fax                      Email  \\\n",
       "0  PublicPhone:(495) 682-42-22  NaN  Email:140libzav@cbsuao.ru   \n",
       "\n",
       "                                        WorkingHours  \\\n",
       "0  DayWeek:понедельник\\n WorkHours:выходной\\n \\n ...   \n",
       "\n",
       "                   ClarificationOfWorkingHours       WebSite  NumOfSeats  \\\n",
       "0  Последняя пятница месяца - санитарный день.  bibliouao.ru        30.0   \n",
       "\n",
       "   NumOfReaders  NumOfVisitors  \n",
       "0        6103.0        45840.0  "
      ]
     },
     "execution_count": 561,
     "metadata": {},
     "output_type": "execute_result"
    }
   ],
   "source": [
    "libraries_raw.head(1)"
   ]
  },
  {
   "cell_type": "markdown",
   "id": "1590d0a7",
   "metadata": {},
   "source": [
    "### 1.1.3 Обработка реестра домов"
   ]
  },
  {
   "cell_type": "code",
   "execution_count": 576,
   "id": "d15b1f13",
   "metadata": {},
   "outputs": [],
   "source": [
    "house_reester = pd.read_csv('./data/houses_reester.csv')"
   ]
  },
  {
   "cell_type": "code",
   "execution_count": 577,
   "id": "8ad7dd9f",
   "metadata": {},
   "outputs": [
    {
     "data": {
      "text/html": [
       "<div>\n",
       "<style scoped>\n",
       "    .dataframe tbody tr th:only-of-type {\n",
       "        vertical-align: middle;\n",
       "    }\n",
       "\n",
       "    .dataframe tbody tr th {\n",
       "        vertical-align: top;\n",
       "    }\n",
       "\n",
       "    .dataframe thead th {\n",
       "        text-align: right;\n",
       "    }\n",
       "</style>\n",
       "<table border=\"1\" class=\"dataframe\">\n",
       "  <thead>\n",
       "    <tr style=\"text-align: right;\">\n",
       "      <th></th>\n",
       "      <th>coordinates</th>\n",
       "      <th>address</th>\n",
       "      <th>square, m2</th>\n",
       "      <th>year</th>\n",
       "      <th>floor_cnt</th>\n",
       "      <th>entrance_cnt</th>\n",
       "      <th>apartment_cnt</th>\n",
       "    </tr>\n",
       "  </thead>\n",
       "  <tbody>\n",
       "    <tr>\n",
       "      <th>0</th>\n",
       "      <td>55.834472,37.65805</td>\n",
       "      <td>пр-кт. Мира, д. 188 Б, к. 1, Москва</td>\n",
       "      <td>54804.10</td>\n",
       "      <td>2014</td>\n",
       "      <td>58</td>\n",
       "      <td>1</td>\n",
       "      <td>370</td>\n",
       "    </tr>\n",
       "    <tr>\n",
       "      <th>1</th>\n",
       "      <td>55.835483,37.658338</td>\n",
       "      <td>пр-кт. Мира, д. 188Б, к. 3, Москва</td>\n",
       "      <td>53253.20</td>\n",
       "      <td>2015</td>\n",
       "      <td>58</td>\n",
       "      <td>1</td>\n",
       "      <td>356</td>\n",
       "    </tr>\n",
       "    <tr>\n",
       "      <th>2</th>\n",
       "      <td>55.7984977,37.5207235</td>\n",
       "      <td>пер. Чапаевский, д. 3, Москва</td>\n",
       "      <td>256740.60</td>\n",
       "      <td>2006</td>\n",
       "      <td>57</td>\n",
       "      <td>14</td>\n",
       "      <td>992</td>\n",
       "    </tr>\n",
       "    <tr>\n",
       "      <th>3</th>\n",
       "      <td>55.723592,37.527256</td>\n",
       "      <td>ул. Мосфильмовская, д. 8, Москва</td>\n",
       "      <td>137500.80</td>\n",
       "      <td>2011</td>\n",
       "      <td>53</td>\n",
       "      <td>2</td>\n",
       "      <td>564</td>\n",
       "    </tr>\n",
       "    <tr>\n",
       "      <th>4</th>\n",
       "      <td>55.71518,37.506612</td>\n",
       "      <td>ул. Мосфильмовская, д. 70, Москва</td>\n",
       "      <td>341272.69</td>\n",
       "      <td>2006</td>\n",
       "      <td>50</td>\n",
       "      <td>7</td>\n",
       "      <td>1046</td>\n",
       "    </tr>\n",
       "  </tbody>\n",
       "</table>\n",
       "</div>"
      ],
      "text/plain": [
       "             coordinates                              address square, m2  \\\n",
       "0     55.834472,37.65805  пр-кт. Мира, д. 188 Б, к. 1, Москва   54804.10   \n",
       "1    55.835483,37.658338   пр-кт. Мира, д. 188Б, к. 3, Москва   53253.20   \n",
       "2  55.7984977,37.5207235        пер. Чапаевский, д. 3, Москва  256740.60   \n",
       "3    55.723592,37.527256     ул. Мосфильмовская, д. 8, Москва  137500.80   \n",
       "4     55.71518,37.506612    ул. Мосфильмовская, д. 70, Москва  341272.69   \n",
       "\n",
       "   year floor_cnt entrance_cnt apartment_cnt  \n",
       "0  2014        58            1           370  \n",
       "1  2015        58            1           356  \n",
       "2  2006        57           14           992  \n",
       "3  2011        53            2           564  \n",
       "4  2006        50            7          1046  "
      ]
     },
     "execution_count": 577,
     "metadata": {},
     "output_type": "execute_result"
    }
   ],
   "source": [
    "house_reester.head()"
   ]
  },
  {
   "cell_type": "code",
   "execution_count": 605,
   "id": "4c7630c4",
   "metadata": {},
   "outputs": [],
   "source": [
    "house_reester = house_reester[house_reester.coordinates != 'none']\n",
    "house_reester['lat'] = house_reester['coordinates'].apply(lambda x: x.split(',')[0])\n",
    "house_reester['lon'] = house_reester['coordinates'].apply(lambda x: x.split(',')[1])"
   ]
  },
  {
   "cell_type": "code",
   "execution_count": 607,
   "id": "67cf2249",
   "metadata": {},
   "outputs": [
    {
     "name": "stdout",
     "output_type": "stream",
     "text": [
      "<class 'pandas.core.frame.DataFrame'>\n",
      "Int64Index: 33394 entries, 0 to 33397\n",
      "Data columns (total 9 columns):\n",
      " #   Column         Non-Null Count  Dtype \n",
      "---  ------         --------------  ----- \n",
      " 0   coordinates    33394 non-null  object\n",
      " 1   address        33394 non-null  object\n",
      " 2   square, m2     33394 non-null  object\n",
      " 3   year           33394 non-null  object\n",
      " 4   floor_cnt      33394 non-null  object\n",
      " 5   entrance_cnt   4072 non-null   object\n",
      " 6   apartment_cnt  4062 non-null   object\n",
      " 7   lat            33394 non-null  object\n",
      " 8   lon            33394 non-null  object\n",
      "dtypes: object(9)\n",
      "memory usage: 2.5+ MB\n"
     ]
    }
   ],
   "source": [
    "house_reester.info()"
   ]
  },
  {
   "cell_type": "markdown",
   "id": "47de1d89",
   "metadata": {},
   "source": [
    "Видим, что данных по количеству подъездов и апартаментов достаточно мало – далее обучим модель предсказывать эти значения, чтобы оценивать плотность населения в разных локациях города."
   ]
  },
  {
   "cell_type": "markdown",
   "id": "86ba0c57",
   "metadata": {},
   "source": [
    "### 1.1.4 Обработка данных по пунктам выдачи заказов"
   ]
  },
  {
   "cell_type": "code",
   "execution_count": 610,
   "id": "04070e48",
   "metadata": {},
   "outputs": [
    {
     "name": "stdout",
     "output_type": "stream",
     "text": [
      "cdek.csv        ozon.csv        wildberries.csv yandex.csv\r\n"
     ]
    }
   ],
   "source": [
    "! ls ./data/pvz"
   ]
  },
  {
   "cell_type": "code",
   "execution_count": 620,
   "id": "21a9e788",
   "metadata": {},
   "outputs": [],
   "source": [
    "cdek = pd.read_csv('./data/pvz/cdek.csv')\n",
    "ozon = pd.read_csv('./data/pvz/ozon.csv')\n",
    "wildberries = pd.read_csv('./data/pvz/wildberries.csv')\n",
    "yandex = pd.read_csv('./data/pvz/yandex.csv')"
   ]
  },
  {
   "cell_type": "code",
   "execution_count": 621,
   "id": "e0883ad9",
   "metadata": {},
   "outputs": [],
   "source": [
    "def get_lat_lon_by_coodrinates(df, sep=','):\n",
    "    df = df[df.coordinates != 'none']\n",
    "    df['lat'] = df['coordinates'].apply(lambda x: x.split(',')[0])\n",
    "    df['lon'] = df['coordinates'].apply(lambda x: x.split(',')[1])\n",
    "    return df"
   ]
  },
  {
   "cell_type": "code",
   "execution_count": 622,
   "id": "a746188f",
   "metadata": {},
   "outputs": [],
   "source": [
    "cdek = get_lat_lon_by_coodrinates(cdek)\n",
    "ozon = get_lat_lon_by_coodrinates(ozon)\n",
    "wildberries = get_lat_lon_by_coodrinates(wildberries)\n",
    "yandex = get_lat_lon_by_coodrinates(yandex)"
   ]
  },
  {
   "cell_type": "markdown",
   "id": "c8678d37",
   "metadata": {},
   "source": [
    "Далее в моделях будем учитывать количество пунктов выдачи в окрестности."
   ]
  },
  {
   "cell_type": "markdown",
   "id": "0bb266dd",
   "metadata": {},
   "source": [
    "### 1.1.5 Обработка станций метро, МЦК, МЦД"
   ]
  },
  {
   "cell_type": "code",
   "execution_count": 709,
   "id": "fb61ac87",
   "metadata": {},
   "outputs": [],
   "source": [
    "mcd_station_raw['StationName'] = mcd_station_raw['Diameter'].apply(lambda x: x.split('\\n')[0][x.find(':')+1:])"
   ]
  },
  {
   "cell_type": "code",
   "execution_count": 710,
   "id": "80c8fbcf",
   "metadata": {},
   "outputs": [],
   "source": [
    "mcd_station_raw = mcd_station_raw[~mcd_station_raw.AdmArea.isna()]"
   ]
  },
  {
   "cell_type": "code",
   "execution_count": 711,
   "id": "cfca1c8c",
   "metadata": {},
   "outputs": [],
   "source": [
    "mcd_station_raw = mcd_station_raw.groupby(by=['StationName', 'AdmArea', 'District']).agg({\n",
    "    'Latitude_WGS84': 'max', 'Longitude_WGS84': 'max'\n",
    "}).reset_index()"
   ]
  },
  {
   "cell_type": "code",
   "execution_count": 713,
   "id": "6d19bd44",
   "metadata": {},
   "outputs": [
    {
     "data": {
      "text/html": [
       "<div>\n",
       "<style scoped>\n",
       "    .dataframe tbody tr th:only-of-type {\n",
       "        vertical-align: middle;\n",
       "    }\n",
       "\n",
       "    .dataframe tbody tr th {\n",
       "        vertical-align: top;\n",
       "    }\n",
       "\n",
       "    .dataframe thead th {\n",
       "        text-align: right;\n",
       "    }\n",
       "</style>\n",
       "<table border=\"1\" class=\"dataframe\">\n",
       "  <thead>\n",
       "    <tr style=\"text-align: right;\">\n",
       "      <th></th>\n",
       "      <th>StationName</th>\n",
       "      <th>AdmArea</th>\n",
       "      <th>District</th>\n",
       "      <th>lat</th>\n",
       "      <th>lon</th>\n",
       "    </tr>\n",
       "  </thead>\n",
       "  <tbody>\n",
       "    <tr>\n",
       "      <th>0</th>\n",
       "      <td>Беговая</td>\n",
       "      <td>Центральный административный округ</td>\n",
       "      <td>Пресненский район</td>\n",
       "      <td>55.773365</td>\n",
       "      <td>37.549662</td>\n",
       "    </tr>\n",
       "    <tr>\n",
       "      <th>1</th>\n",
       "      <td>Белорусская</td>\n",
       "      <td>Северный административный округ</td>\n",
       "      <td>район Беговой</td>\n",
       "      <td>55.777623</td>\n",
       "      <td>37.581279</td>\n",
       "    </tr>\n",
       "    <tr>\n",
       "      <th>2</th>\n",
       "      <td>Белорусская</td>\n",
       "      <td>Центральный административный округ</td>\n",
       "      <td>Тверской район</td>\n",
       "      <td>55.777095</td>\n",
       "      <td>37.582197</td>\n",
       "    </tr>\n",
       "    <tr>\n",
       "      <th>3</th>\n",
       "      <td>Бескудниково</td>\n",
       "      <td>Северо-Восточный административный округ</td>\n",
       "      <td>Алтуфьевский район</td>\n",
       "      <td>55.882877</td>\n",
       "      <td>37.569944</td>\n",
       "    </tr>\n",
       "    <tr>\n",
       "      <th>4</th>\n",
       "      <td>Бутово</td>\n",
       "      <td>Юго-Западный административный округ</td>\n",
       "      <td>район Южное Бутово</td>\n",
       "      <td>55.542269</td>\n",
       "      <td>37.571564</td>\n",
       "    </tr>\n",
       "  </tbody>\n",
       "</table>\n",
       "</div>"
      ],
      "text/plain": [
       "    StationName                                  AdmArea            District  \\\n",
       "0       Беговая       Центральный административный округ   Пресненский район   \n",
       "1   Белорусская          Северный административный округ       район Беговой   \n",
       "2   Белорусская       Центральный административный округ      Тверской район   \n",
       "3  Бескудниково  Северо-Восточный административный округ  Алтуфьевский район   \n",
       "4        Бутово      Юго-Западный административный округ  район Южное Бутово   \n",
       "\n",
       "         lat        lon  \n",
       "0  55.773365  37.549662  \n",
       "1  55.777623  37.581279  \n",
       "2  55.777095  37.582197  \n",
       "3  55.882877  37.569944  \n",
       "4  55.542269  37.571564  "
      ]
     },
     "execution_count": 713,
     "metadata": {},
     "output_type": "execute_result"
    }
   ],
   "source": [
    "mcd_station_raw.columns = ['StationName', 'AdmArea', 'District', 'lat', 'lon']\n",
    "mcd_station_raw.head()"
   ]
  },
  {
   "cell_type": "code",
   "execution_count": 714,
   "id": "a5f49eff",
   "metadata": {},
   "outputs": [],
   "source": [
    "metro_station_raw = metro_station_raw[['NameOfStation', 'AdmArea', 'Latitude_WGS84', 'Longitude_WGS84', 'District']]\n",
    "metro_station_raw.columns = ['StationName', 'AdmArea', 'lat', 'lon', 'District']"
   ]
  },
  {
   "cell_type": "code",
   "execution_count": 717,
   "id": "cfcf3146",
   "metadata": {},
   "outputs": [],
   "source": [
    "metro_station_raw = metro_station_raw.groupby(by=['StationName', 'AdmArea', 'District']).agg({\n",
    "    'lat': 'max', 'lon': 'max'\n",
    "}).reset_index()"
   ]
  },
  {
   "cell_type": "markdown",
   "id": "0a741a69",
   "metadata": {},
   "source": [
    "Дублирование станций необходимо для того, чтобы можно было учесть одну при отфильтровывании в каждом из районов, которые может выбрать пользователь. При подсчете количества станций в окрестности каждая станция будет учитываться один раз."
   ]
  },
  {
   "cell_type": "markdown",
   "id": "cde1a404",
   "metadata": {},
   "source": [
    "## 1.2 Сбор информации по каждой сущности"
   ]
  },
  {
   "cell_type": "markdown",
   "id": "3d64284d",
   "metadata": {},
   "source": [
    "Соберем для каждого типа объекта данные в единый датафрейм."
   ]
  },
  {
   "cell_type": "markdown",
   "id": "d0726197",
   "metadata": {},
   "source": [
    "### 1.2.1 Нежилые объекты"
   ]
  },
  {
   "cell_type": "code",
   "execution_count": 562,
   "id": "c62abe1b",
   "metadata": {},
   "outputs": [],
   "source": [
    "culture_house = pd.merge(houses_of_culture_and_clubs_df, houses_of_culture_and_clubs_raw,\n",
    "                           left_index=True, right_index=True)\n",
    "library = pd.merge(libraries_df, libraries_raw, left_index=True, right_index=True)\n",
    "multifunctional = pd.merge(multifunctional_centers_df, multifunctional_centers_raw,\n",
    "                           left_index=True, right_index=True)\n",
    "sports = pd.merge(sport_objects, sport_objects_raw, left_index=True, right_index=True)"
   ]
  },
  {
   "cell_type": "code",
   "execution_count": 567,
   "id": "266c20e0",
   "metadata": {},
   "outputs": [],
   "source": [
    "non_stationary_trade_objects = pd.merge(non_stationary_trade_objects_df,\n",
    "                                        non_stationary_trade_objects_raw,\n",
    "                                        left_index=True, right_index=True)\n",
    "printed_products = pd.merge(printed_products_df, printed_products_raw,\n",
    "                            left_index=True, right_index=True)\n",
    "kiosk = printed_products.append(non_stationary_trade_objects)"
   ]
  },
  {
   "cell_type": "code",
   "execution_count": 868,
   "id": "2e28320d",
   "metadata": {},
   "outputs": [],
   "source": [
    "metro_station_raw['decription'] = 'Станция метро/МЦК'\n",
    "mcd_station_raw['decription'] = 'Станция МЦД'\n",
    "underground = metro_station_raw.append(mcd_station_raw)"
   ]
  },
  {
   "cell_type": "code",
   "execution_count": 719,
   "id": "8946903e",
   "metadata": {},
   "outputs": [
    {
     "data": {
      "text/html": [
       "<div>\n",
       "<style scoped>\n",
       "    .dataframe tbody tr th:only-of-type {\n",
       "        vertical-align: middle;\n",
       "    }\n",
       "\n",
       "    .dataframe tbody tr th {\n",
       "        vertical-align: top;\n",
       "    }\n",
       "\n",
       "    .dataframe thead th {\n",
       "        text-align: right;\n",
       "    }\n",
       "</style>\n",
       "<table border=\"1\" class=\"dataframe\">\n",
       "  <thead>\n",
       "    <tr style=\"text-align: right;\">\n",
       "      <th></th>\n",
       "      <th>StationName</th>\n",
       "      <th>AdmArea</th>\n",
       "      <th>District</th>\n",
       "      <th>lat</th>\n",
       "      <th>lon</th>\n",
       "    </tr>\n",
       "  </thead>\n",
       "  <tbody>\n",
       "    <tr>\n",
       "      <th>0</th>\n",
       "      <td>Авиамоторная</td>\n",
       "      <td>Восточный административный округ</td>\n",
       "      <td>район Соколиная Гора</td>\n",
       "      <td>55.753246</td>\n",
       "      <td>37.719478</td>\n",
       "    </tr>\n",
       "    <tr>\n",
       "      <th>1</th>\n",
       "      <td>Авиамоторная</td>\n",
       "      <td>Юго-Восточный административный округ</td>\n",
       "      <td>район Лефортово</td>\n",
       "      <td>55.752312</td>\n",
       "      <td>37.717822</td>\n",
       "    </tr>\n",
       "    <tr>\n",
       "      <th>2</th>\n",
       "      <td>Автозаводская</td>\n",
       "      <td>Южный административный округ</td>\n",
       "      <td>Даниловский район</td>\n",
       "      <td>55.708597</td>\n",
       "      <td>37.662899</td>\n",
       "    </tr>\n",
       "    <tr>\n",
       "      <th>3</th>\n",
       "      <td>Академическая</td>\n",
       "      <td>Юго-Западный административный округ</td>\n",
       "      <td>Академический район</td>\n",
       "      <td>55.688773</td>\n",
       "      <td>37.574804</td>\n",
       "    </tr>\n",
       "    <tr>\n",
       "      <th>4</th>\n",
       "      <td>Александровский сад</td>\n",
       "      <td>Центральный административный округ</td>\n",
       "      <td>Тверской район</td>\n",
       "      <td>55.752239</td>\n",
       "      <td>37.612392</td>\n",
       "    </tr>\n",
       "  </tbody>\n",
       "</table>\n",
       "</div>"
      ],
      "text/plain": [
       "           StationName                               AdmArea  \\\n",
       "0         Авиамоторная      Восточный административный округ   \n",
       "1         Авиамоторная  Юго-Восточный административный округ   \n",
       "2        Автозаводская          Южный административный округ   \n",
       "3        Академическая   Юго-Западный административный округ   \n",
       "4  Александровский сад    Центральный административный округ   \n",
       "\n",
       "               District        lat        lon  \n",
       "0  район Соколиная Гора  55.753246  37.719478  \n",
       "1       район Лефортово  55.752312  37.717822  \n",
       "2     Даниловский район  55.708597  37.662899  \n",
       "3   Академический район  55.688773  37.574804  \n",
       "4        Тверской район  55.752239  37.612392  "
      ]
     },
     "execution_count": 719,
     "metadata": {},
     "output_type": "execute_result"
    }
   ],
   "source": [
    "underground.head()"
   ]
  },
  {
   "cell_type": "markdown",
   "id": "07cf180d",
   "metadata": {},
   "source": [
    "Все полученные датасеты представляют собой потенциальные места для того, чтобы поставить в них постаматы.\n",
    "\n",
    "Приведем их к общему виду для дальнейшей генерации общих признаков для модели."
   ]
  },
  {
   "cell_type": "code",
   "execution_count": 789,
   "id": "7e7bad3c",
   "metadata": {},
   "outputs": [],
   "source": [
    "def make_common_format(df, object_type):\n",
    "    df_ = pd.DataFrame()\n",
    "    df_['title'] = df.ShortName\n",
    "    df_['description'] = df.Category\n",
    "    df_['type'] = object_type\n",
    "    df_['lat'] = df.lat\n",
    "    df_['lon'] = df.lon\n",
    "    df_['area'] = df['ObjectAddress'].apply(lambda x: x.split('\\n ')[0])\\\n",
    "                                .apply(lambda x: x[x.find(':')+1:])\n",
    "    df_['district'] = df['ObjectAddress'].apply(lambda x: x.split('\\n ')[1])\\\n",
    "                                .apply(lambda x: x[x.find(':')+1:])\n",
    "    df_['address'] = df['ObjectAddress'].apply(lambda x: x.split('\\n ')[3])\\\n",
    "                                .apply(lambda x: x[x.find(':')+1:])\n",
    "    df_['district'] = df_['district'].apply(lambda x: x.replace('район', '').strip())\n",
    "    for segment in ['Южное', 'Северное', 'Западное', 'Восточное', 'Центральное']:\n",
    "        df_['district'] = df_['district']\\\n",
    "            .apply(lambda x: (x.replace(segment, '').strip() + ' ' + segment).strip() if x.find(segment) != -1 else x)\n",
    "    return df_"
   ]
  },
  {
   "cell_type": "code",
   "execution_count": 784,
   "id": "c773a17b",
   "metadata": {},
   "outputs": [],
   "source": [
    "library_ = make_common_format(library, 'library')\n",
    "culture_house_ = make_common_format(culture_house, 'culture_house')"
   ]
  },
  {
   "cell_type": "code",
   "execution_count": 796,
   "id": "1578a1a3",
   "metadata": {},
   "outputs": [],
   "source": [
    "multifunctional_ = multifunctional[['ShortName', 'lat', 'lon', 'properties_Attributes_AdmArea',\n",
    "                                   'properties_Attributes_District', 'properties_Attributes_Address']]\n",
    "multifunctional_.columns = ['title', 'lat', 'lon', 'area', 'district', 'address']\n",
    "multifunctional_['description'] = 'Многофункциональный центр предоставления государственных и муниципальных услуг'\n",
    "multifunctional_['type'] = 'multifunctional'\n",
    "multifunctional_['district'] = multifunctional_['district'].apply(lambda x: x.replace('район', '').strip())\n",
    "for segment in ['Южное', 'Северное', 'Западное', 'Восточное', 'Центральное']:\n",
    "    multifunctional_['district'] = multifunctional_['district']\\\n",
    "        .apply(lambda x: (x.replace(segment, '').strip() + ' ' + segment).strip() if x.find(segment) != -1 else x)"
   ]
  },
  {
   "cell_type": "code",
   "execution_count": 823,
   "id": "1151c321",
   "metadata": {},
   "outputs": [],
   "source": [
    "kiosk_ = kiosk[['lat', 'lon', 'properties_Attributes_AdmArea',\n",
    "                                   'properties_Attributes_District', 'properties_Attributes_Address']]\n",
    "kiosk_.columns = ['lat', 'lon', 'area', 'district', 'address']\n",
    "kiosk_['title'] = kiosk.properties_Attributes_Name\n",
    "kiosk_['description'] = kiosk.properties_Attributes_Specialization.fillna('')\n",
    "kiosk_['type'] = 'kiosk'\n",
    "kiosk_['district'] = kiosk_['district'].apply(lambda x: x.replace('район', '').strip())\n",
    "for segment in ['Южное', 'Северное', 'Западное', 'Восточное', 'Центральное']:\n",
    "    kiosk_['district'] = kiosk_['district']\\\n",
    "        .apply(lambda x: (x.replace(segment, '').strip() + ' ' + segment).strip() if x.find(segment) != -1 else x)"
   ]
  },
  {
   "cell_type": "code",
   "execution_count": 859,
   "id": "82a97b75",
   "metadata": {},
   "outputs": [],
   "source": [
    "stub = sports[~sports['ObjectAddress'].isna()]\n",
    "sports_ = stub[['lat', 'lon']]\n",
    "sports_['title'] = stub.properties_Attributes_FullName\n",
    "sports_['description'] = stub.Category.fillna('')\n",
    "sports_['type'] = 'sports'\n",
    "sports_['area'] = stub['ObjectAddress'].apply(lambda x: x.split('\\n ')[0])\\\n",
    "                            .apply(lambda x: x[x.find(':')+1:])\n",
    "sports_['district'] = stub['ObjectAddress'].apply(lambda x: x.split('\\n ')[1])\\\n",
    "                            .apply(lambda x: x[x.find(':')+1:])\n",
    "sports_['address'] = stub['ObjectAddress'].apply(lambda x: x.split('\\n ')[3])\\\n",
    "                            .apply(lambda x: x[x.find(':')+1:])\n",
    "sports_['district'] = sports_['district'].apply(lambda x: x.replace('район', '').strip())\n",
    "for segment in ['Южное', 'Северное', 'Западное', 'Восточное', 'Центральное']:\n",
    "    sports_['district'] = sports_['district']\\\n",
    "        .apply(lambda x: (x.replace(segment, '').strip() + ' ' + segment).strip() if x.find(segment) != -1 else x)\n"
   ]
  },
  {
   "cell_type": "code",
   "execution_count": 870,
   "id": "eb2c2e98",
   "metadata": {},
   "outputs": [],
   "source": [
    "underground.columns = ['title', 'area', 'district', 'lat', 'lon', 'description']\n",
    "underground['title'] = 'Станция ' + underground['title']\n",
    "underground['district'] = underground['district'].apply(lambda x: x.replace('район', '').strip())\n",
    "underground['type'] = 'underground'\n",
    "for segment in ['Южное', 'Северное', 'Западное', 'Восточное', 'Центральное']:\n",
    "    underground['district'] = underground['district']\\\n",
    "        .apply(lambda x: (x.replace(segment, '').strip() + ' ' + segment).strip() if x.find(segment) != -1 else x)"
   ]
  },
  {
   "cell_type": "markdown",
   "id": "4f0562d6",
   "metadata": {},
   "source": [
    "Соберем отформатированные объекты вместе:"
   ]
  },
  {
   "cell_type": "code",
   "execution_count": 885,
   "id": "453b526b",
   "metadata": {},
   "outputs": [],
   "source": [
    "candidates = library_.append(culture_house_).append(multifunctional_)\\\n",
    "                .append(kiosk_).append(sports_).append(underground).fillna('')"
   ]
  },
  {
   "cell_type": "code",
   "execution_count": 887,
   "id": "9a71966e",
   "metadata": {},
   "outputs": [
    {
     "data": {
      "text/html": [
       "<div>\n",
       "<style scoped>\n",
       "    .dataframe tbody tr th:only-of-type {\n",
       "        vertical-align: middle;\n",
       "    }\n",
       "\n",
       "    .dataframe tbody tr th {\n",
       "        vertical-align: top;\n",
       "    }\n",
       "\n",
       "    .dataframe thead th {\n",
       "        text-align: right;\n",
       "    }\n",
       "</style>\n",
       "<table border=\"1\" class=\"dataframe\">\n",
       "  <thead>\n",
       "    <tr style=\"text-align: right;\">\n",
       "      <th></th>\n",
       "      <th>title</th>\n",
       "      <th>description</th>\n",
       "      <th>type</th>\n",
       "      <th>lat</th>\n",
       "      <th>lon</th>\n",
       "      <th>area</th>\n",
       "      <th>district</th>\n",
       "      <th>address</th>\n",
       "    </tr>\n",
       "  </thead>\n",
       "  <tbody>\n",
       "    <tr>\n",
       "      <th>0</th>\n",
       "      <td>ГБУК г. Москвы «ОКЦ ЮАО», Библиотека №140</td>\n",
       "      <td>Библиотека</td>\n",
       "      <td>library</td>\n",
       "      <td>55.583967</td>\n",
       "      <td>37.685992</td>\n",
       "      <td>Южный административный округ</td>\n",
       "      <td>Бирюлёво Восточное</td>\n",
       "      <td>Российская Федерация, город Москва, внутригоро...</td>\n",
       "    </tr>\n",
       "    <tr>\n",
       "      <th>1</th>\n",
       "      <td>ГБУК г. Москвы «ОКЦ ЮАО», Библиотека №166 им. ...</td>\n",
       "      <td>Библиотека</td>\n",
       "      <td>library</td>\n",
       "      <td>55.708619</td>\n",
       "      <td>37.586619</td>\n",
       "      <td>Южный административный округ</td>\n",
       "      <td>Донской</td>\n",
       "      <td>Российская Федерация, город Москва, внутригоро...</td>\n",
       "    </tr>\n",
       "    <tr>\n",
       "      <th>2</th>\n",
       "      <td>ГБУК г. Москвы «ОКЦ ЮЗАО», Библиотека №169 «Пр...</td>\n",
       "      <td>Библиотека</td>\n",
       "      <td>library</td>\n",
       "      <td>55.646156</td>\n",
       "      <td>37.477928</td>\n",
       "      <td>Юго-Западный административный округ</td>\n",
       "      <td>Тёплый Стан</td>\n",
       "      <td>город Москва, Ленинский проспект, дом 127</td>\n",
       "    </tr>\n",
       "    <tr>\n",
       "      <th>3</th>\n",
       "      <td>ГБУК г. Москвы «ОКЦ ТиНАО», Библиотека №266 им...</td>\n",
       "      <td>Библиотека</td>\n",
       "      <td>library</td>\n",
       "      <td>55.659028</td>\n",
       "      <td>37.330996</td>\n",
       "      <td>Новомосковский административный округ</td>\n",
       "      <td>поселение Внуковское</td>\n",
       "      <td>город Москва, поселение Внуковское, посёлок ДС...</td>\n",
       "    </tr>\n",
       "    <tr>\n",
       "      <th>4</th>\n",
       "      <td>ГБУК г. Москвы «ОКЦ ЮВАО», Библиотека №115</td>\n",
       "      <td>Библиотека</td>\n",
       "      <td>library</td>\n",
       "      <td>55.708541</td>\n",
       "      <td>37.782957</td>\n",
       "      <td>Юго-Восточный административный округ</td>\n",
       "      <td>Кузьминки</td>\n",
       "      <td>Российская Федерация, город Москва, внутригоро...</td>\n",
       "    </tr>\n",
       "  </tbody>\n",
       "</table>\n",
       "</div>"
      ],
      "text/plain": [
       "                                               title description     type  \\\n",
       "0          ГБУК г. Москвы «ОКЦ ЮАО», Библиотека №140  Библиотека  library   \n",
       "1  ГБУК г. Москвы «ОКЦ ЮАО», Библиотека №166 им. ...  Библиотека  library   \n",
       "2  ГБУК г. Москвы «ОКЦ ЮЗАО», Библиотека №169 «Пр...  Библиотека  library   \n",
       "3  ГБУК г. Москвы «ОКЦ ТиНАО», Библиотека №266 им...  Библиотека  library   \n",
       "4         ГБУК г. Москвы «ОКЦ ЮВАО», Библиотека №115  Библиотека  library   \n",
       "\n",
       "         lat        lon                                   area  \\\n",
       "0  55.583967  37.685992           Южный административный округ   \n",
       "1  55.708619  37.586619           Южный административный округ   \n",
       "2  55.646156  37.477928    Юго-Западный административный округ   \n",
       "3  55.659028  37.330996  Новомосковский административный округ   \n",
       "4  55.708541  37.782957   Юго-Восточный административный округ   \n",
       "\n",
       "               district                                            address  \n",
       "0    Бирюлёво Восточное  Российская Федерация, город Москва, внутригоро...  \n",
       "1               Донской  Российская Федерация, город Москва, внутригоро...  \n",
       "2           Тёплый Стан          город Москва, Ленинский проспект, дом 127  \n",
       "3  поселение Внуковское  город Москва, поселение Внуковское, посёлок ДС...  \n",
       "4             Кузьминки  Российская Федерация, город Москва, внутригоро...  "
      ]
     },
     "execution_count": 887,
     "metadata": {},
     "output_type": "execute_result"
    }
   ],
   "source": [
    "candidates.head()"
   ]
  },
  {
   "cell_type": "markdown",
   "id": "eb27b0ea",
   "metadata": {},
   "source": [
    "### 1.2.2 Жилые дома"
   ]
  },
  {
   "cell_type": "markdown",
   "id": "3c2cd487",
   "metadata": {},
   "source": [
    "#### 1.2.2.1 Расчет административных округов и районов"
   ]
  },
  {
   "cell_type": "markdown",
   "id": "d2f16d66",
   "metadata": {},
   "source": [
    "В датасете домов не хватает информации об округах и районах – получим их методом ближайших соседей, сравнивая с уже известными объектами, полученными выше."
   ]
  },
  {
   "cell_type": "code",
   "execution_count": 911,
   "id": "57f83fad",
   "metadata": {},
   "outputs": [],
   "source": [
    "from sklearn.neighbors import NearestNeighbors, KNeighborsClassifier"
   ]
  },
  {
   "cell_type": "code",
   "execution_count": 928,
   "id": "9bc1bd5c",
   "metadata": {},
   "outputs": [],
   "source": [
    "house_reester = house_reester[house_reester['lat'] != \"None\"]\n",
    "house_reester = house_reester[house_reester['lon'] != \"None\"]"
   ]
  },
  {
   "cell_type": "code",
   "execution_count": 934,
   "id": "ce12c660",
   "metadata": {},
   "outputs": [],
   "source": [
    "clf_area = KNeighborsClassifier(n_neighbors=10, algorithm='ball_tree')\\\n",
    "            .fit(candidates[['lat', 'lon']], candidates['area'])"
   ]
  },
  {
   "cell_type": "code",
   "execution_count": 935,
   "id": "21cae1ec",
   "metadata": {},
   "outputs": [],
   "source": [
    "house_reester['area'] = clf_area.predict(house_reester[['lat', 'lon']])"
   ]
  },
  {
   "cell_type": "code",
   "execution_count": 940,
   "id": "efc9b264",
   "metadata": {},
   "outputs": [],
   "source": [
    "clf_district = KNeighborsClassifier(n_neighbors=5, algorithm='ball_tree')\\\n",
    "            .fit(candidates[['lat', 'lon']], candidates['district'])"
   ]
  },
  {
   "cell_type": "code",
   "execution_count": 941,
   "id": "541ecef3",
   "metadata": {},
   "outputs": [],
   "source": [
    "house_reester['district'] = clf_district.predict(house_reester[['lat', 'lon']])"
   ]
  },
  {
   "cell_type": "code",
   "execution_count": 943,
   "id": "c80b5d54",
   "metadata": {},
   "outputs": [
    {
     "name": "stdout",
     "output_type": "stream",
     "text": [
      "<class 'pandas.core.frame.DataFrame'>\n",
      "Int64Index: 33393 entries, 0 to 33397\n",
      "Data columns (total 11 columns):\n",
      " #   Column         Non-Null Count  Dtype \n",
      "---  ------         --------------  ----- \n",
      " 0   coordinates    33393 non-null  object\n",
      " 1   address        33393 non-null  object\n",
      " 2   square, m2     33393 non-null  object\n",
      " 3   year           33393 non-null  object\n",
      " 4   floor_cnt      33393 non-null  object\n",
      " 5   entrance_cnt   4071 non-null   object\n",
      " 6   apartment_cnt  4061 non-null   object\n",
      " 7   lat            33393 non-null  object\n",
      " 8   lon            33393 non-null  object\n",
      " 9   area           33393 non-null  object\n",
      " 10  district       33393 non-null  object\n",
      "dtypes: object(11)\n",
      "memory usage: 3.1+ MB\n"
     ]
    }
   ],
   "source": [
    "house_reester.info()"
   ]
  },
  {
   "cell_type": "markdown",
   "id": "112d52b6",
   "metadata": {},
   "source": [
    "#### 1.2.2.2. Расчет количества помещений/квартир"
   ]
  },
  {
   "cell_type": "markdown",
   "id": "2db23688",
   "metadata": {},
   "source": [
    "Для расчета покрытия необходимо понимать, как спрос распределен по географии. Эту информацию помогло бы получить приближенное вычисление количества жителей в каждом доме."
   ]
  },
  {
   "cell_type": "code",
   "execution_count": 1027,
   "id": "e740e854",
   "metadata": {},
   "outputs": [],
   "source": [
    "from sklearn.linear_model import LinearRegression\n",
    "from sklearn.ensemble import GradientBoostingRegressor\n",
    "from sklearn.model_selection import train_test_split\n",
    "from sklearn.metrics import mean_squared_error"
   ]
  },
  {
   "cell_type": "code",
   "execution_count": 1007,
   "id": "503a2be4",
   "metadata": {},
   "outputs": [],
   "source": [
    "data = house_reester.copy()"
   ]
  },
  {
   "cell_type": "code",
   "execution_count": 1021,
   "id": "72580e95",
   "metadata": {},
   "outputs": [],
   "source": [
    "data = data[~data['apartment_cnt'].isna()][data['square, m2'] != 'Не заполнено']\\\n",
    "    [data['square, m2'] != 'Feb-40'][data['apartment_cnt'] != 'не указано']\\\n",
    "    [data['year'] != 'Не заполнено'][data['floor_cnt'] != 'Не заполнено'][data['apartment_cnt'] != 'Не указано']\n",
    "# data.drop(['address', 'coordinates', 'entrance_cnt', 'area', 'district'], axis=1, inplace=True)"
   ]
  },
  {
   "cell_type": "markdown",
   "id": "7d39b20f",
   "metadata": {},
   "source": [
    "**Обучим линейную регрессию**"
   ]
  },
  {
   "cell_type": "code",
   "execution_count": 1023,
   "id": "ede5278e",
   "metadata": {},
   "outputs": [],
   "source": [
    "X_train, X_test, y_train, y_test = train_test_split(\n",
    "    data.drop('apartment_cnt', axis=1), data['apartment_cnt'], test_size=0.33, random_state=42)"
   ]
  },
  {
   "cell_type": "code",
   "execution_count": 1024,
   "id": "a8dc5561",
   "metadata": {},
   "outputs": [],
   "source": [
    "reg = LinearRegression().fit(X_train, y_train)"
   ]
  },
  {
   "cell_type": "code",
   "execution_count": 1025,
   "id": "0953b0e8",
   "metadata": {},
   "outputs": [
    {
     "data": {
      "text/plain": [
       "0.6018154079124773"
      ]
     },
     "execution_count": 1025,
     "metadata": {},
     "output_type": "execute_result"
    }
   ],
   "source": [
    "reg.score(X_train, y_train)"
   ]
  },
  {
   "cell_type": "code",
   "execution_count": 1026,
   "id": "56261948",
   "metadata": {},
   "outputs": [],
   "source": [
    "y_pred = reg.predict(X_test)"
   ]
  },
  {
   "cell_type": "code",
   "execution_count": 1028,
   "id": "46fa51d2",
   "metadata": {},
   "outputs": [
    {
     "data": {
      "text/plain": [
       "6818.1417790003015"
      ]
     },
     "execution_count": 1028,
     "metadata": {},
     "output_type": "execute_result"
    }
   ],
   "source": [
    "mean_squared_error(y_pred, y_test)"
   ]
  },
  {
   "cell_type": "code",
   "execution_count": 1032,
   "id": "a58b6212",
   "metadata": {},
   "outputs": [],
   "source": [
    "reg2 = LinearRegression().fit(X_train.drop(['lat', 'lon'], axis=1), y_train)\n",
    "reg2.score(X_train.drop(['lat', 'lon'], axis=1), y_train)\n",
    "y_pred2 = reg2.predict(X_test.drop(['lat', 'lon'], axis=1))"
   ]
  },
  {
   "cell_type": "code",
   "execution_count": 1033,
   "id": "b560d2e5",
   "metadata": {},
   "outputs": [
    {
     "data": {
      "text/plain": [
       "6899.98269965296"
      ]
     },
     "execution_count": 1033,
     "metadata": {},
     "output_type": "execute_result"
    }
   ],
   "source": [
    "mean_squared_error(y_pred2, y_test)"
   ]
  },
  {
   "cell_type": "markdown",
   "id": "7899057f",
   "metadata": {},
   "source": [
    "Модель с большим количеством фичей оказалась получше. Посмотрим на распределение предсказаний:"
   ]
  },
  {
   "cell_type": "code",
   "execution_count": 1035,
   "id": "70394f9e",
   "metadata": {},
   "outputs": [],
   "source": [
    "import matplotlib.pyplot as plt"
   ]
  },
  {
   "cell_type": "code",
   "execution_count": 1045,
   "id": "8ba48db4",
   "metadata": {},
   "outputs": [
    {
     "data": {
      "image/png": "[encoded data removed]",
      "text/plain": [
       "<Figure size 432x288 with 1 Axes>"
      ]
     },
     "metadata": {},
     "output_type": "display_data"
    }
   ],
   "source": [
    "plt.hist(y_pred, bins=34)\n",
    "plt.xlabel('Apartments prediction')\n",
    "plt.xlabel('Count')\n",
    "plt.xlim(0, 700)\n",
    "plt.title('Linear regression prediction distribution')\n",
    "plt.show()"
   ]
  },
  {
   "cell_type": "markdown",
   "id": "7f4f9fe1",
   "metadata": {},
   "source": [
    "**Обучим градиентный бустинг**"
   ]
  },
  {
   "cell_type": "code",
   "execution_count": 1064,
   "id": "06aa3728",
   "metadata": {},
   "outputs": [],
   "source": [
    "data = house_reester.copy()"
   ]
  },
  {
   "cell_type": "code",
   "execution_count": 1065,
   "id": "660f5ff5",
   "metadata": {},
   "outputs": [],
   "source": [
    "data = data[~data['apartment_cnt'].isna()][data['square, m2'] != 'Не заполнено']\\\n",
    "    [data['square, m2'] != 'Feb-40'][data['apartment_cnt'] != 'не указано']\\\n",
    "    [data['year'] != 'Не заполнено'][data['floor_cnt'] != 'Не заполнено'][data['apartment_cnt'] != 'Не указано']"
   ]
  },
  {
   "cell_type": "code",
   "execution_count": 1066,
   "id": "248746e9",
   "metadata": {},
   "outputs": [],
   "source": [
    "data.drop(['coordinates', 'address', 'entrance_cnt', 'square, m2', 'area', 'district'], axis=1, inplace=True)"
   ]
  },
  {
   "cell_type": "code",
   "execution_count": 1067,
   "id": "930998e7",
   "metadata": {},
   "outputs": [],
   "source": [
    "X_train, X_test, y_train, y_test = train_test_split(\n",
    "    data.drop('apartment_cnt', axis=1), data['apartment_cnt'], random_state=0)"
   ]
  },
  {
   "cell_type": "code",
   "execution_count": 1068,
   "id": "93b2eace",
   "metadata": {},
   "outputs": [
    {
     "data": {
      "text/plain": [
       "GradientBoostingRegressor(random_state=42)"
      ]
     },
     "execution_count": 1068,
     "metadata": {},
     "output_type": "execute_result"
    }
   ],
   "source": [
    "rbg = GradientBoostingRegressor(random_state=42)\n",
    "rbg.fit(X_train, y_train)"
   ]
  },
  {
   "cell_type": "code",
   "execution_count": 1069,
   "id": "e0020d12",
   "metadata": {},
   "outputs": [],
   "source": [
    "y_pred3 = rbg.predict(X_test)"
   ]
  },
  {
   "cell_type": "code",
   "execution_count": 1070,
   "id": "5deb3df9",
   "metadata": {},
   "outputs": [
    {
     "data": {
      "text/plain": [
       "10144.585422959235"
      ]
     },
     "execution_count": 1070,
     "metadata": {},
     "output_type": "execute_result"
    }
   ],
   "source": [
    "mean_squared_error(y_pred3, y_test)"
   ]
  },
  {
   "cell_type": "markdown",
   "id": "3ffd0e2f",
   "metadata": {},
   "source": [
    "Бустинг оказался ненужным усложнением – самая просто первая модель показала качество лучше, восспользуемся ей."
   ]
  },
  {
   "cell_type": "code",
   "execution_count": 1101,
   "id": "92c525c4",
   "metadata": {},
   "outputs": [],
   "source": [
    "data = house_reester.copy()"
   ]
  },
  {
   "cell_type": "code",
   "execution_count": 1102,
   "id": "43374edf",
   "metadata": {},
   "outputs": [],
   "source": [
    "house_reester_ = data[~data['apartment_cnt'].isna()][data['square, m2'] != 'Не заполнено']\\\n",
    "    [data['square, m2'] != 'Feb-40'][data['apartment_cnt'] != 'не указано']\\\n",
    "    [data['year'] != 'Не заполнено'][data['floor_cnt'] != 'Не заполнено']\\\n",
    "    [data['apartment_cnt'] != 'Не указано'].copy()"
   ]
  },
  {
   "cell_type": "code",
   "execution_count": 1104,
   "id": "d8f3b87b",
   "metadata": {},
   "outputs": [],
   "source": [
    "d = data[data['apartment_cnt'].isna()][data['square, m2'] != 'Не заполнено']\\\n",
    "    [data['square, m2'] != 'Feb-40'][data['square, m2'] != 'Apr-64'][data['year'] != 'Не заполнено']\\\n",
    "    [data['floor_cnt'] != 'Не заполнено'].copy()"
   ]
  },
  {
   "cell_type": "code",
   "execution_count": 1105,
   "id": "e4f65a77",
   "metadata": {},
   "outputs": [],
   "source": [
    "data.drop(['address', 'coordinates', 'entrance_cnt', 'area', 'district'], axis=1, inplace=True)"
   ]
  },
  {
   "cell_type": "code",
   "execution_count": 1119,
   "id": "bfdf7122",
   "metadata": {},
   "outputs": [],
   "source": [
    "d['apartment_cnt'] = reg.predict(d.drop(\n",
    "    ['address', 'coordinates', 'entrance_cnt', 'area', 'district', 'apartment_cnt'], axis=1)).astype(int)"
   ]
  },
  {
   "cell_type": "code",
   "execution_count": 1124,
   "id": "48a7690e",
   "metadata": {},
   "outputs": [
    {
     "data": {
      "text/plain": [
       "0"
      ]
     },
     "execution_count": 1124,
     "metadata": {},
     "output_type": "execute_result"
    }
   ],
   "source": [
    "sum(d['apartment_cnt'] <= 0)"
   ]
  },
  {
   "cell_type": "code",
   "execution_count": 1125,
   "id": "7d482b97",
   "metadata": {},
   "outputs": [],
   "source": [
    "house_reester_ = house_reester_.append(d)"
   ]
  },
  {
   "cell_type": "code",
   "execution_count": 1121,
   "id": "98b87a81",
   "metadata": {},
   "outputs": [
    {
     "data": {
      "image/png": "[encoded data removed]",
      "text/plain": [
       "<Figure size 432x288 with 1 Axes>"
      ]
     },
     "metadata": {},
     "output_type": "display_data"
    }
   ],
   "source": [
    "plt.hist(d['apartment_cnt'], bins=34)\n",
    "plt.xlabel('Apartments prediction')\n",
    "plt.xlabel('Count')\n",
    "plt.xlim(0, 700)\n",
    "plt.title('Linear regression prediction distribution')\n",
    "plt.show()"
   ]
  },
  {
   "cell_type": "markdown",
   "id": "f9a48e3f",
   "metadata": {},
   "source": [
    "Первым приближением количества жильцов будет по три человека на квартиру."
   ]
  },
  {
   "cell_type": "code",
   "execution_count": 1346,
   "id": "801fb2cf",
   "metadata": {},
   "outputs": [],
   "source": [
    "house_reester_['apartment_cnt'] = house_reester_['apartment_cnt'].astype(float)"
   ]
  },
  {
   "cell_type": "code",
   "execution_count": 1348,
   "id": "7bd2dfc9",
   "metadata": {},
   "outputs": [
    {
     "data": {
      "text/plain": [
       "2570.0"
      ]
     },
     "execution_count": 1348,
     "metadata": {},
     "output_type": "execute_result"
    }
   ],
   "source": [
    "house_reester_['apartment_cnt'].max()"
   ]
  },
  {
   "cell_type": "code",
   "execution_count": 1350,
   "id": "3c885bdf",
   "metadata": {},
   "outputs": [],
   "source": [
    "house_reester_['population'] = house_reester_['apartment_cnt'] * 3"
   ]
  },
  {
   "cell_type": "code",
   "execution_count": 1137,
   "id": "7be1c089",
   "metadata": {},
   "outputs": [],
   "source": [
    "house_reester_['type'] = 'house'\n",
    "house_reester_['description'] = 'Многоквартирный жилой дом'\n",
    "house_reester_.drop('coordinates', axis=1, inplace=True)"
   ]
  },
  {
   "cell_type": "markdown",
   "id": "bdb0be76",
   "metadata": {},
   "source": [
    "Соединяем справочники."
   ]
  },
  {
   "cell_type": "code",
   "execution_count": 1351,
   "id": "af3cc5c1",
   "metadata": {},
   "outputs": [],
   "source": [
    "all_candidates = candidates.append(house_reester_)"
   ]
  },
  {
   "cell_type": "markdown",
   "id": "ee17005e",
   "metadata": {},
   "source": [
    "В соответствии с ТЗ убираем лишние АО и районы."
   ]
  },
  {
   "cell_type": "code",
   "execution_count": 1352,
   "id": "75fe5dbf",
   "metadata": {},
   "outputs": [],
   "source": [
    "all_candidates = all_candidates[all_candidates['area'] != 'Новомосковский административный округ']\n",
    "all_candidates = all_candidates[all_candidates['area'] != 'Зеленоградский административный округ']\n",
    "all_candidates = all_candidates[all_candidates['area'] != 'Троицкий административный округ']\n",
    "all_candidates = all_candidates[all_candidates['district'] != 'поселение Внуковское']\n",
    "all_candidates = all_candidates[all_candidates['district'] != 'поселение Марушкинское']"
   ]
  },
  {
   "cell_type": "code",
   "execution_count": 1353,
   "id": "55421df4",
   "metadata": {},
   "outputs": [],
   "source": [
    "flat_list = [item for sublist in list(adm_districts.values()) for item in sublist]"
   ]
  },
  {
   "cell_type": "code",
   "execution_count": 1354,
   "id": "32cc3ac9",
   "metadata": {},
   "outputs": [
    {
     "data": {
      "text/html": [
       "<div>\n",
       "<style scoped>\n",
       "    .dataframe tbody tr th:only-of-type {\n",
       "        vertical-align: middle;\n",
       "    }\n",
       "\n",
       "    .dataframe tbody tr th {\n",
       "        vertical-align: top;\n",
       "    }\n",
       "\n",
       "    .dataframe thead th {\n",
       "        text-align: right;\n",
       "    }\n",
       "</style>\n",
       "<table border=\"1\" class=\"dataframe\">\n",
       "  <thead>\n",
       "    <tr style=\"text-align: right;\">\n",
       "      <th></th>\n",
       "      <th>title</th>\n",
       "      <th>description</th>\n",
       "      <th>type</th>\n",
       "      <th>lat</th>\n",
       "      <th>lon</th>\n",
       "      <th>area</th>\n",
       "      <th>district</th>\n",
       "      <th>address</th>\n",
       "      <th>square, m2</th>\n",
       "      <th>year</th>\n",
       "      <th>floor_cnt</th>\n",
       "      <th>entrance_cnt</th>\n",
       "      <th>apartment_cnt</th>\n",
       "      <th>population</th>\n",
       "    </tr>\n",
       "  </thead>\n",
       "  <tbody>\n",
       "    <tr>\n",
       "      <th>301</th>\n",
       "      <td>Лыжная база «Сходня» (121530)</td>\n",
       "      <td>Лыжная трасса и база (сезонная)</td>\n",
       "      <td>sports</td>\n",
       "      <td>55.933816</td>\n",
       "      <td>37.282558</td>\n",
       "      <td></td>\n",
       "      <td></td>\n",
       "      <td>обл. Московская, г. Химки, д. Голиково, снт. З...</td>\n",
       "      <td>NaN</td>\n",
       "      <td>NaN</td>\n",
       "      <td>NaN</td>\n",
       "      <td>NaN</td>\n",
       "      <td>NaN</td>\n",
       "      <td>NaN</td>\n",
       "    </tr>\n",
       "    <tr>\n",
       "      <th>302</th>\n",
       "      <td>Туристическая база «Лопотово» (121448)</td>\n",
       "      <td>Комплекс спортивных сооружений</td>\n",
       "      <td>sports</td>\n",
       "      <td>56.055042</td>\n",
       "      <td>36.842030</td>\n",
       "      <td></td>\n",
       "      <td></td>\n",
       "      <td>обл. Московская, р-н. Солнечногорский, д. Лопо...</td>\n",
       "      <td>NaN</td>\n",
       "      <td>NaN</td>\n",
       "      <td>NaN</td>\n",
       "      <td>NaN</td>\n",
       "      <td>NaN</td>\n",
       "      <td>NaN</td>\n",
       "    </tr>\n",
       "    <tr>\n",
       "      <th>303</th>\n",
       "      <td>Многофункциональный спортивный комплекс «Жавор...</td>\n",
       "      <td>Комплекс спортивных сооружений</td>\n",
       "      <td>sports</td>\n",
       "      <td>55.615120</td>\n",
       "      <td>37.082353</td>\n",
       "      <td></td>\n",
       "      <td></td>\n",
       "      <td>обл. Московская, р-н. Одинцовский, с. Жаворонк...</td>\n",
       "      <td>NaN</td>\n",
       "      <td>NaN</td>\n",
       "      <td>NaN</td>\n",
       "      <td>NaN</td>\n",
       "      <td>NaN</td>\n",
       "      <td>NaN</td>\n",
       "    </tr>\n",
       "    <tr>\n",
       "      <th>313</th>\n",
       "      <td>Туристическая база «Лопотово»</td>\n",
       "      <td>Комплекс спортивных сооружений</td>\n",
       "      <td>sports</td>\n",
       "      <td>56.055117</td>\n",
       "      <td>36.841927</td>\n",
       "      <td></td>\n",
       "      <td></td>\n",
       "      <td>обл. Московская, р-н. Солнечногорский, д. Лопо...</td>\n",
       "      <td>NaN</td>\n",
       "      <td>NaN</td>\n",
       "      <td>NaN</td>\n",
       "      <td>NaN</td>\n",
       "      <td>NaN</td>\n",
       "      <td>NaN</td>\n",
       "    </tr>\n",
       "    <tr>\n",
       "      <th>314</th>\n",
       "      <td>Лыжная база «Сходня»</td>\n",
       "      <td>Лыжная трасса и база (сезонная)</td>\n",
       "      <td>sports</td>\n",
       "      <td>55.934009</td>\n",
       "      <td>37.281783</td>\n",
       "      <td></td>\n",
       "      <td></td>\n",
       "      <td>обл. Московская, г. Химки, д. Голиково, снт. З...</td>\n",
       "      <td>NaN</td>\n",
       "      <td>NaN</td>\n",
       "      <td>NaN</td>\n",
       "      <td>NaN</td>\n",
       "      <td>NaN</td>\n",
       "      <td>NaN</td>\n",
       "    </tr>\n",
       "    <tr>\n",
       "      <th>317</th>\n",
       "      <td>Многофункциональный спортивный комплекс «Жавор...</td>\n",
       "      <td>Комплекс спортивных сооружений</td>\n",
       "      <td>sports</td>\n",
       "      <td>55.615273</td>\n",
       "      <td>37.082752</td>\n",
       "      <td></td>\n",
       "      <td></td>\n",
       "      <td>обл. Московская, р-н. Одинцовский, с. Жаворонк...</td>\n",
       "      <td>NaN</td>\n",
       "      <td>NaN</td>\n",
       "      <td>NaN</td>\n",
       "      <td>NaN</td>\n",
       "      <td>NaN</td>\n",
       "      <td>NaN</td>\n",
       "    </tr>\n",
       "  </tbody>\n",
       "</table>\n",
       "</div>"
      ],
      "text/plain": [
       "                                                 title  \\\n",
       "301                      Лыжная база «Сходня» (121530)   \n",
       "302             Туристическая база «Лопотово» (121448)   \n",
       "303  Многофункциональный спортивный комплекс «Жавор...   \n",
       "313                      Туристическая база «Лопотово»   \n",
       "314                               Лыжная база «Сходня»   \n",
       "317  Многофункциональный спортивный комплекс «Жавор...   \n",
       "\n",
       "                         description    type        lat        lon area  \\\n",
       "301  Лыжная трасса и база (сезонная)  sports  55.933816  37.282558        \n",
       "302   Комплекс спортивных сооружений  sports  56.055042  36.842030        \n",
       "303   Комплекс спортивных сооружений  sports  55.615120  37.082353        \n",
       "313   Комплекс спортивных сооружений  sports  56.055117  36.841927        \n",
       "314  Лыжная трасса и база (сезонная)  sports  55.934009  37.281783        \n",
       "317   Комплекс спортивных сооружений  sports  55.615273  37.082752        \n",
       "\n",
       "    district                                            address square, m2  \\\n",
       "301           обл. Московская, г. Химки, д. Голиково, снт. З...        NaN   \n",
       "302           обл. Московская, р-н. Солнечногорский, д. Лопо...        NaN   \n",
       "303           обл. Московская, р-н. Одинцовский, с. Жаворонк...        NaN   \n",
       "313           обл. Московская, р-н. Солнечногорский, д. Лопо...        NaN   \n",
       "314           обл. Московская, г. Химки, д. Голиково, снт. З...        NaN   \n",
       "317           обл. Московская, р-н. Одинцовский, с. Жаворонк...        NaN   \n",
       "\n",
       "    year floor_cnt entrance_cnt  apartment_cnt  population  \n",
       "301  NaN       NaN          NaN            NaN         NaN  \n",
       "302  NaN       NaN          NaN            NaN         NaN  \n",
       "303  NaN       NaN          NaN            NaN         NaN  \n",
       "313  NaN       NaN          NaN            NaN         NaN  \n",
       "314  NaN       NaN          NaN            NaN         NaN  \n",
       "317  NaN       NaN          NaN            NaN         NaN  "
      ]
     },
     "execution_count": 1354,
     "metadata": {},
     "output_type": "execute_result"
    }
   ],
   "source": [
    "all_candidates[all_candidates['district'] == '']"
   ]
  },
  {
   "cell_type": "markdown",
   "id": "9a9a0fe8",
   "metadata": {},
   "source": [
    "Дополним данные о зонах при помощи уже готового метода ближайших соседей."
   ]
  },
  {
   "cell_type": "code",
   "execution_count": 1355,
   "id": "580ec6b1",
   "metadata": {},
   "outputs": [],
   "source": [
    "cand_without_zone = all_candidates[all_candidates['area'] == '']\n",
    "all_candidates = all_candidates[all_candidates['area'] != '']\n",
    "all_candidates = all_candidates[all_candidates['district'] != '']"
   ]
  },
  {
   "cell_type": "code",
   "execution_count": 1356,
   "id": "2de33b61",
   "metadata": {},
   "outputs": [],
   "source": [
    "cand_without_zone['area'] = clf_area.predict(cand_without_zone[['lat', 'lon']])\n",
    "cand_without_zone['district'] = clf_district.predict(cand_without_zone[['lat', 'lon']])"
   ]
  },
  {
   "cell_type": "code",
   "execution_count": 1357,
   "id": "8108a69e",
   "metadata": {},
   "outputs": [
    {
     "data": {
      "text/plain": [
       "301    Зеленоградский административный округ\n",
       "303    Новомосковский административный округ\n",
       "Name: area, dtype: object"
      ]
     },
     "execution_count": 1357,
     "metadata": {},
     "output_type": "execute_result"
    }
   ],
   "source": [
    "cand_without_zone['area'].drop_duplicates()"
   ]
  },
  {
   "cell_type": "markdown",
   "id": "ab9f802c",
   "metadata": {},
   "source": [
    "Не будем добавлять эти данные в общий датасет, т.к. по ТЗ эти зоны рассматривать не нужно."
   ]
  },
  {
   "cell_type": "markdown",
   "id": "39de6de0",
   "metadata": {},
   "source": [
    "## 1.3 Дополнительные фичи"
   ]
  },
  {
   "cell_type": "code",
   "execution_count": 1358,
   "id": "2ae81b85",
   "metadata": {},
   "outputs": [],
   "source": [
    "all_candidates.fillna('', inplace=True)"
   ]
  },
  {
   "cell_type": "code",
   "execution_count": 1359,
   "id": "97d489c6",
   "metadata": {},
   "outputs": [],
   "source": [
    "def calculate_distance(ptA, ptB):\n",
    "    \"\"\"\n",
    "    ptA: (lat, lon) of the first point\n",
    "    ptB: (lat, lon) of the second point\n",
    "    \"\"\"\n",
    "    lat_diff = ptA[0] - ptB[0]\n",
    "    lon_diff = ptA[1] - ptB[1]\n",
    "    lat_dist = lat_diff * 111.37\n",
    "    lon_dist = lon_diff * np.cos(ptA[0] * np.pi / 180) * 111.37\n",
    "    return np.sqrt(lon_dist ** 2 + lat_dist ** 2)"
   ]
  },
  {
   "cell_type": "markdown",
   "id": "7244e1a9",
   "metadata": {},
   "source": [
    "### 1.3.1 Количество пунктов выдачи заказов в окрестности"
   ]
  },
  {
   "cell_type": "markdown",
   "id": "dd0276b1",
   "metadata": {},
   "source": [
    "По ТЗ рассматриваем пятиминутную шаговую доступность, поэтому берём чуть больший радиус – 500м."
   ]
  },
  {
   "cell_type": "code",
   "execution_count": 1360,
   "id": "087d4f60",
   "metadata": {},
   "outputs": [],
   "source": [
    "RADIUS = 0.5"
   ]
  },
  {
   "cell_type": "code",
   "execution_count": 1362,
   "id": "b3ca3823",
   "metadata": {},
   "outputs": [],
   "source": [
    "pvz_merged = yandex.append(wildberries).append(ozon).append(cdek)\n",
    "pvz_merged = pvz_merged[pvz_merged['lat'] != \"None\"]\n",
    "pvz_merged = pvz_merged[pvz_merged['lon'] != \"None\"]"
   ]
  },
  {
   "cell_type": "code",
   "execution_count": 1363,
   "id": "ac9291a7",
   "metadata": {},
   "outputs": [],
   "source": [
    "pvz_merged['lat'] = pvz_merged['lat'].astype(float)\n",
    "pvz_merged['lon'] = pvz_merged['lon'].astype(float)\n",
    "pvz_lat = pvz_merged['lat']\n",
    "pvz_lon = pvz_merged['lon']\n",
    "all_candidates['lat'] = all_candidates['lat'].astype(float)\n",
    "all_candidates['lon'] = all_candidates['lon'].astype(float)"
   ]
  },
  {
   "cell_type": "code",
   "execution_count": 1365,
   "id": "9aa2d1a2",
   "metadata": {},
   "outputs": [
    {
     "name": "stderr",
     "output_type": "stream",
     "text": [
      "100%|██████████| 37131/37131 [00:48<00:00, 770.39it/s]\n"
     ]
    }
   ],
   "source": [
    "pvz_cnt = []\n",
    "for _, row in tqdm(all_candidates.iterrows(), total=all_candidates.shape[0]):\n",
    "    curr_cnt = 0\n",
    "    \n",
    "    lat_dist = (pvz_lat - row['lat']) * 111.37\n",
    "    lon_dist = (pvz_lon - row['lon']) * np.cos(row['lat'] * np.pi / 180) * 111.37\n",
    "    dists = np.sqrt(lon_dist ** 2 + lat_dist ** 2)\n",
    "#     for pvz_coords in zip(pvz_lat, pvz_lon):\n",
    "#         if calculate_distance((row['lat'], row['lon']), pvz_coords) < RADIUS:\n",
    "#             curr_cnt += 1\n",
    "    curr_cnt = sum(dists < RADIUS)        \n",
    "    pvz_cnt.append(curr_cnt)"
   ]
  },
  {
   "cell_type": "code",
   "execution_count": 1366,
   "id": "3a9e1b03",
   "metadata": {},
   "outputs": [],
   "source": [
    "all_candidates['pvz_cnt'] = pvz_cnt\n",
    "pvz_merged.to_csv('pvz_merged.csv')"
   ]
  },
  {
   "cell_type": "markdown",
   "id": "55f651ba",
   "metadata": {},
   "source": [
    "### 1.3.2 Количество станций метро/МЦД в окрестности"
   ]
  },
  {
   "cell_type": "code",
   "execution_count": 1367,
   "id": "ac442bd4",
   "metadata": {},
   "outputs": [],
   "source": [
    "underground['lat'] = underground['lat'].astype(float)\n",
    "underground['lon'] = underground['lon'].astype(float)\n",
    "underground_lat = underground['lat']\n",
    "underground_lon = underground['lon']"
   ]
  },
  {
   "cell_type": "markdown",
   "id": "6528df8c",
   "metadata": {},
   "source": [
    "Не забываем учесть дублирование станций."
   ]
  },
  {
   "cell_type": "code",
   "execution_count": 1369,
   "id": "f9e55fc4",
   "metadata": {},
   "outputs": [
    {
     "data": {
      "text/html": [
       "<div>\n",
       "<style scoped>\n",
       "    .dataframe tbody tr th:only-of-type {\n",
       "        vertical-align: middle;\n",
       "    }\n",
       "\n",
       "    .dataframe tbody tr th {\n",
       "        vertical-align: top;\n",
       "    }\n",
       "\n",
       "    .dataframe thead th {\n",
       "        text-align: right;\n",
       "    }\n",
       "</style>\n",
       "<table border=\"1\" class=\"dataframe\">\n",
       "  <thead>\n",
       "    <tr style=\"text-align: right;\">\n",
       "      <th></th>\n",
       "      <th>title</th>\n",
       "      <th>area</th>\n",
       "      <th>district</th>\n",
       "      <th>lat</th>\n",
       "      <th>lon</th>\n",
       "      <th>description</th>\n",
       "      <th>type</th>\n",
       "    </tr>\n",
       "  </thead>\n",
       "  <tbody>\n",
       "    <tr>\n",
       "      <th>0</th>\n",
       "      <td>Станция Авиамоторная</td>\n",
       "      <td>Восточный административный округ</td>\n",
       "      <td>Соколиная Гора</td>\n",
       "      <td>55.753246</td>\n",
       "      <td>37.719478</td>\n",
       "      <td>Станция метро/МЦК</td>\n",
       "      <td>underground</td>\n",
       "    </tr>\n",
       "    <tr>\n",
       "      <th>1</th>\n",
       "      <td>Станция Авиамоторная</td>\n",
       "      <td>Юго-Восточный административный округ</td>\n",
       "      <td>Лефортово</td>\n",
       "      <td>55.752312</td>\n",
       "      <td>37.717822</td>\n",
       "      <td>Станция метро/МЦК</td>\n",
       "      <td>underground</td>\n",
       "    </tr>\n",
       "    <tr>\n",
       "      <th>2</th>\n",
       "      <td>Станция Автозаводская</td>\n",
       "      <td>Южный административный округ</td>\n",
       "      <td>Даниловский</td>\n",
       "      <td>55.708597</td>\n",
       "      <td>37.662899</td>\n",
       "      <td>Станция метро/МЦК</td>\n",
       "      <td>underground</td>\n",
       "    </tr>\n",
       "    <tr>\n",
       "      <th>3</th>\n",
       "      <td>Станция Академическая</td>\n",
       "      <td>Юго-Западный административный округ</td>\n",
       "      <td>Академический</td>\n",
       "      <td>55.688773</td>\n",
       "      <td>37.574804</td>\n",
       "      <td>Станция метро/МЦК</td>\n",
       "      <td>underground</td>\n",
       "    </tr>\n",
       "    <tr>\n",
       "      <th>4</th>\n",
       "      <td>Станция Александровский сад</td>\n",
       "      <td>Центральный административный округ</td>\n",
       "      <td>Тверской</td>\n",
       "      <td>55.752239</td>\n",
       "      <td>37.612392</td>\n",
       "      <td>Станция метро/МЦК</td>\n",
       "      <td>underground</td>\n",
       "    </tr>\n",
       "  </tbody>\n",
       "</table>\n",
       "</div>"
      ],
      "text/plain": [
       "                         title                                  area  \\\n",
       "0         Станция Авиамоторная      Восточный административный округ   \n",
       "1         Станция Авиамоторная  Юго-Восточный административный округ   \n",
       "2        Станция Автозаводская          Южный административный округ   \n",
       "3        Станция Академическая   Юго-Западный административный округ   \n",
       "4  Станция Александровский сад    Центральный административный округ   \n",
       "\n",
       "         district        lat        lon        description         type  \n",
       "0  Соколиная Гора  55.753246  37.719478  Станция метро/МЦК  underground  \n",
       "1       Лефортово  55.752312  37.717822  Станция метро/МЦК  underground  \n",
       "2     Даниловский  55.708597  37.662899  Станция метро/МЦК  underground  \n",
       "3   Академический  55.688773  37.574804  Станция метро/МЦК  underground  \n",
       "4        Тверской  55.752239  37.612392  Станция метро/МЦК  underground  "
      ]
     },
     "execution_count": 1369,
     "metadata": {},
     "output_type": "execute_result"
    }
   ],
   "source": [
    "underground.head(5)"
   ]
  },
  {
   "cell_type": "code",
   "execution_count": 1371,
   "id": "47f06b76",
   "metadata": {},
   "outputs": [
    {
     "name": "stderr",
     "output_type": "stream",
     "text": [
      "100%|██████████| 37131/37131 [01:03<00:00, 583.82it/s]\n"
     ]
    }
   ],
   "source": [
    "station_cnt = []\n",
    "station_set = []\n",
    "station_dist = []\n",
    "for _, candidate in tqdm(all_candidates.iterrows(), total=all_candidates.shape[0]):\n",
    "    curr_stations = set()\n",
    "    curr_dist = []\n",
    "    \n",
    "    lat_dist = (underground['lat'] - candidate['lat']) * 111.37\n",
    "    lon_dist = (underground['lon'] - candidate['lon']) * np.cos(candidate['lat'] * np.pi / 180) * 111.37\n",
    "    dists = np.sqrt(lon_dist ** 2 + lat_dist ** 2)\n",
    "#     for _, station in underground.iterrows():\n",
    "#         dist = calculate_distance((candidate['lat'], candidate['lon']), (station['lat'], station['lon']))\n",
    "#         if dist < RADIUS:\n",
    "#             curr_stations.add(station['title'])\n",
    "#             curr_dist.append(dist)\n",
    "            \n",
    "    curr_stations = set(underground[dists < RADIUS]['title']) \n",
    "    curr_dist = dists[dists < RADIUS]\n",
    "    station_cnt.append(len(curr_stations))\n",
    "    station_set.append(curr_stations)  \n",
    "    station_dist.append(min(curr_dist) if len(curr_dist) > 0 else 5)    "
   ]
  },
  {
   "cell_type": "code",
   "execution_count": 1372,
   "id": "828c483d",
   "metadata": {},
   "outputs": [],
   "source": [
    "all_candidates['station_cnt'] = station_cnt"
   ]
  },
  {
   "cell_type": "code",
   "execution_count": 1373,
   "id": "7c0d6e55",
   "metadata": {},
   "outputs": [
    {
     "data": {
      "image/png": "[encoded data removed]",
      "text/plain": [
       "<Figure size 432x288 with 1 Axes>"
      ]
     },
     "metadata": {},
     "output_type": "display_data"
    }
   ],
   "source": [
    "plt.hist(all_candidates['station_cnt'], bins=10)\n",
    "plt.xlabel('Min station distance')\n",
    "plt.xlabel('Count')\n",
    "plt.title('Min station distance distribution')\n",
    "plt.show()"
   ]
  },
  {
   "cell_type": "markdown",
   "id": "ce03b49b",
   "metadata": {},
   "source": [
    "### 1.3.3 Расстояние до ближайшей станции метро"
   ]
  },
  {
   "cell_type": "code",
   "execution_count": 1374,
   "id": "38b2be74",
   "metadata": {},
   "outputs": [],
   "source": [
    "all_candidates['station_dist'] = station_dist"
   ]
  },
  {
   "cell_type": "code",
   "execution_count": 1375,
   "id": "59c2253c",
   "metadata": {},
   "outputs": [
    {
     "data": {
      "image/png": "[encoded data removed]",
      "text/plain": [
       "<Figure size 432x288 with 1 Axes>"
      ]
     },
     "metadata": {},
     "output_type": "display_data"
    }
   ],
   "source": [
    "plt.hist(all_candidates['station_dist'][all_candidates['station_dist'] < 5], bins=20)\n",
    "plt.xlabel('Min station distance')\n",
    "plt.xlabel('Count')\n",
    "plt.title('Min station distance distribution')\n",
    "plt.show()"
   ]
  },
  {
   "cell_type": "markdown",
   "id": "0c3e6268",
   "metadata": {},
   "source": [
    "### 1.3.4 Пассажиропоток ближайших станций"
   ]
  },
  {
   "cell_type": "code",
   "execution_count": 1376,
   "id": "80ed65b8",
   "metadata": {},
   "outputs": [],
   "source": [
    "metro_passenger_flow_raw['title'] = 'Станция ' + metro_passenger_flow_raw['NameOfStation']\\\n",
    "    .replace('Савеловская', 'Савёловская')"
   ]
  },
  {
   "cell_type": "code",
   "execution_count": 1377,
   "id": "213079cc",
   "metadata": {},
   "outputs": [],
   "source": [
    "link = metro_passenger_flow_raw.groupby('title')['IncomingPassengers'].mean()"
   ]
  },
  {
   "cell_type": "code",
   "execution_count": 1378,
   "id": "9df2b859",
   "metadata": {},
   "outputs": [
    {
     "name": "stderr",
     "output_type": "stream",
     "text": [
      "100%|██████████| 37131/37131 [00:00<00:00, 208292.31it/s]\n"
     ]
    }
   ],
   "source": [
    "pass_flow = []\n",
    "bad_stations = set()\n",
    "for stations in tqdm(station_set, total=len(station_set)):\n",
    "    curr_pass_flow = 0\n",
    "    for st in stations:\n",
    "        try:\n",
    "            curr_pass_flow += link.loc[st]\n",
    "        except KeyError:\n",
    "            bad_stations.add(st)\n",
    "    curr_pass_flow = curr_pass_flow/len(stations) if len(stations) > 0 else 0\n",
    "    pass_flow.append(curr_pass_flow)"
   ]
  },
  {
   "cell_type": "code",
   "execution_count": 1379,
   "id": "35efff6b",
   "metadata": {},
   "outputs": [],
   "source": [
    "all_candidates['passenger_flow'] = (pass_flow - np.mean(pass_flow)) / np.std(pass_flow)"
   ]
  },
  {
   "cell_type": "code",
   "execution_count": 1380,
   "id": "0c5fe30d",
   "metadata": {},
   "outputs": [
    {
     "data": {
      "text/plain": [
       "0       -0.512940\n",
       "1        1.180246\n",
       "2        0.665045\n",
       "4       -0.512940\n",
       "5       -0.512940\n",
       "           ...   \n",
       "32513   -0.512940\n",
       "32574   -0.512940\n",
       "32576    1.183904\n",
       "32593   -0.512940\n",
       "32729   -0.512940\n",
       "Name: passenger_flow, Length: 37131, dtype: float64"
      ]
     },
     "execution_count": 1380,
     "metadata": {},
     "output_type": "execute_result"
    }
   ],
   "source": [
    "all_candidates['passenger_flow']"
   ]
  },
  {
   "cell_type": "markdown",
   "id": "8fce9fa6",
   "metadata": {},
   "source": [
    "### 1.3.5 Расстояние до центра Москвы"
   ]
  },
  {
   "cell_type": "code",
   "execution_count": 1381,
   "id": "835f9aae",
   "metadata": {},
   "outputs": [
    {
     "name": "stderr",
     "output_type": "stream",
     "text": [
      "100%|██████████| 37131/37131 [00:03<00:00, 10628.86it/s]\n"
     ]
    }
   ],
   "source": [
    "dist_to_center = []\n",
    "moscow_center = (55.751535, 37.619120)\n",
    "for _, row in tqdm(all_candidates.iterrows(), total=all_candidates.shape[0]):\n",
    "    dist_to_center.append(calculate_distance((row['lat'], row['lon']), moscow_center))\n",
    "all_candidates['dist_to_center'] = dist_to_center"
   ]
  },
  {
   "cell_type": "code",
   "execution_count": 1382,
   "id": "2bf57263",
   "metadata": {},
   "outputs": [
    {
     "data": {
      "image/png": "[encoded data removed]",
      "text/plain": [
       "<Figure size 432x288 with 1 Axes>"
      ]
     },
     "metadata": {},
     "output_type": "display_data"
    }
   ],
   "source": [
    "plt.hist(all_candidates['dist_to_center'], bins=200)\n",
    "plt.xlabel('Dist from center')\n",
    "plt.xlabel('Count')\n",
    "plt.title('Distance from center distribution')\n",
    "plt.xlim(0, 50)\n",
    "plt.show()"
   ]
  },
  {
   "cell_type": "code",
   "execution_count": 1383,
   "id": "35e480b2",
   "metadata": {},
   "outputs": [],
   "source": [
    "all_candidates = all_candidates[all_candidates['dist_to_center'] < 40]"
   ]
  },
  {
   "cell_type": "markdown",
   "id": "76f734c3",
   "metadata": {},
   "source": [
    "### 1.3.6 Дома в ближайшей окрестности"
   ]
  },
  {
   "cell_type": "code",
   "execution_count": 1384,
   "id": "68998a62",
   "metadata": {},
   "outputs": [
    {
     "name": "stdout",
     "output_type": "stream",
     "text": [
      "<class 'pandas.core.frame.DataFrame'>\n",
      "Int64Index: 32923 entries, 0 to 32729\n",
      "Data columns (total 13 columns):\n",
      " #   Column         Non-Null Count  Dtype  \n",
      "---  ------         --------------  -----  \n",
      " 0   address        32923 non-null  object \n",
      " 1   square, m2     32923 non-null  object \n",
      " 2   year           32923 non-null  object \n",
      " 3   floor_cnt      32923 non-null  object \n",
      " 4   entrance_cnt   3917 non-null   object \n",
      " 5   apartment_cnt  32923 non-null  float64\n",
      " 6   lat            32923 non-null  float64\n",
      " 7   lon            32923 non-null  float64\n",
      " 8   area           32923 non-null  object \n",
      " 9   district       32923 non-null  object \n",
      " 10  population     32923 non-null  float64\n",
      " 11  type           32923 non-null  object \n",
      " 12  description    32923 non-null  object \n",
      "dtypes: float64(4), object(9)\n",
      "memory usage: 4.8+ MB\n"
     ]
    }
   ],
   "source": [
    "house_reester_.info()"
   ]
  },
  {
   "cell_type": "markdown",
   "id": "620c18d6",
   "metadata": {},
   "source": [
    "Для каждой точки датасета считаем сет ближайших к ней домов."
   ]
  },
  {
   "cell_type": "code",
   "execution_count": 1385,
   "id": "613045d4",
   "metadata": {},
   "outputs": [],
   "source": [
    "def calculate_distance(ptA, ptB):\n",
    "    \"\"\"\n",
    "    ptA: (lat, lon) of the first point\n",
    "    ptB: (lat, lon) of the second point\n",
    "    \"\"\"\n",
    "    lat_diff = ptA[0] - ptB[0]\n",
    "    lon_diff = ptA[1] - ptB[1]\n",
    "    lat_dist = lat_diff * 111.37\n",
    "    lon_dist = lon_diff * np.cos(ptA[0] * np.pi / 180) * 111.37\n",
    "    return np.sqrt(lon_dist ** 2 + lat_dist ** 2)"
   ]
  },
  {
   "cell_type": "code",
   "execution_count": 1404,
   "id": "4b5a92be",
   "metadata": {},
   "outputs": [
    {
     "data": {
      "text/html": [
       "<div>\n",
       "<style scoped>\n",
       "    .dataframe tbody tr th:only-of-type {\n",
       "        vertical-align: middle;\n",
       "    }\n",
       "\n",
       "    .dataframe tbody tr th {\n",
       "        vertical-align: top;\n",
       "    }\n",
       "\n",
       "    .dataframe thead th {\n",
       "        text-align: right;\n",
       "    }\n",
       "</style>\n",
       "<table border=\"1\" class=\"dataframe\">\n",
       "  <thead>\n",
       "    <tr style=\"text-align: right;\">\n",
       "      <th></th>\n",
       "      <th>title</th>\n",
       "      <th>description</th>\n",
       "      <th>type</th>\n",
       "      <th>lat</th>\n",
       "      <th>lon</th>\n",
       "      <th>area</th>\n",
       "      <th>district</th>\n",
       "      <th>address</th>\n",
       "      <th>square, m2</th>\n",
       "      <th>year</th>\n",
       "      <th>floor_cnt</th>\n",
       "      <th>entrance_cnt</th>\n",
       "      <th>apartment_cnt</th>\n",
       "      <th>population</th>\n",
       "      <th>pvz_cnt</th>\n",
       "      <th>station_cnt</th>\n",
       "      <th>station_dist</th>\n",
       "      <th>passenger_flow</th>\n",
       "      <th>dist_to_center</th>\n",
       "      <th>coverage</th>\n",
       "    </tr>\n",
       "  </thead>\n",
       "  <tbody>\n",
       "    <tr>\n",
       "      <th>0</th>\n",
       "      <td>ГБУК г. Москвы «ОКЦ ЮАО», Библиотека №140</td>\n",
       "      <td>Библиотека</td>\n",
       "      <td>library</td>\n",
       "      <td>55.583967</td>\n",
       "      <td>37.685992</td>\n",
       "      <td>Южный административный округ</td>\n",
       "      <td>Бирюлёво Восточное</td>\n",
       "      <td>Российская Федерация, город Москва, внутригоро...</td>\n",
       "      <td></td>\n",
       "      <td></td>\n",
       "      <td></td>\n",
       "      <td></td>\n",
       "      <td></td>\n",
       "      <td></td>\n",
       "      <td>1</td>\n",
       "      <td>0</td>\n",
       "      <td>5.000000</td>\n",
       "      <td>-0.512940</td>\n",
       "      <td>19.130877</td>\n",
       "      <td>14856.0</td>\n",
       "    </tr>\n",
       "    <tr>\n",
       "      <th>1</th>\n",
       "      <td>ГБУК г. Москвы «ОКЦ ЮАО», Библиотека №166 им. ...</td>\n",
       "      <td>Библиотека</td>\n",
       "      <td>library</td>\n",
       "      <td>55.708619</td>\n",
       "      <td>37.586619</td>\n",
       "      <td>Южный административный округ</td>\n",
       "      <td>Донской</td>\n",
       "      <td>Российская Федерация, город Москва, внутригоро...</td>\n",
       "      <td></td>\n",
       "      <td></td>\n",
       "      <td></td>\n",
       "      <td></td>\n",
       "      <td></td>\n",
       "      <td></td>\n",
       "      <td>3</td>\n",
       "      <td>2</td>\n",
       "      <td>0.059873</td>\n",
       "      <td>1.180246</td>\n",
       "      <td>5.196476</td>\n",
       "      <td>7980.0</td>\n",
       "    </tr>\n",
       "  </tbody>\n",
       "</table>\n",
       "</div>"
      ],
      "text/plain": [
       "                                               title description     type  \\\n",
       "0          ГБУК г. Москвы «ОКЦ ЮАО», Библиотека №140  Библиотека  library   \n",
       "1  ГБУК г. Москвы «ОКЦ ЮАО», Библиотека №166 им. ...  Библиотека  library   \n",
       "\n",
       "         lat        lon                          area            district  \\\n",
       "0  55.583967  37.685992  Южный административный округ  Бирюлёво Восточное   \n",
       "1  55.708619  37.586619  Южный административный округ             Донской   \n",
       "\n",
       "                                             address square, m2 year  \\\n",
       "0  Российская Федерация, город Москва, внутригоро...                   \n",
       "1  Российская Федерация, город Москва, внутригоро...                   \n",
       "\n",
       "  floor_cnt entrance_cnt apartment_cnt population  pvz_cnt  station_cnt  \\\n",
       "0                                                        1            0   \n",
       "1                                                        3            2   \n",
       "\n",
       "   station_dist  passenger_flow  dist_to_center  coverage  \n",
       "0      5.000000       -0.512940       19.130877   14856.0  \n",
       "1      0.059873        1.180246        5.196476    7980.0  "
      ]
     },
     "execution_count": 1404,
     "metadata": {},
     "output_type": "execute_result"
    }
   ],
   "source": [
    "all_candidates.head(2)"
   ]
  },
  {
   "cell_type": "code",
   "execution_count": 1405,
   "id": "7ad40e3f",
   "metadata": {},
   "outputs": [
    {
     "data": {
      "text/html": [
       "<div>\n",
       "<style scoped>\n",
       "    .dataframe tbody tr th:only-of-type {\n",
       "        vertical-align: middle;\n",
       "    }\n",
       "\n",
       "    .dataframe tbody tr th {\n",
       "        vertical-align: top;\n",
       "    }\n",
       "\n",
       "    .dataframe thead th {\n",
       "        text-align: right;\n",
       "    }\n",
       "</style>\n",
       "<table border=\"1\" class=\"dataframe\">\n",
       "  <thead>\n",
       "    <tr style=\"text-align: right;\">\n",
       "      <th></th>\n",
       "      <th>address</th>\n",
       "      <th>square, m2</th>\n",
       "      <th>year</th>\n",
       "      <th>floor_cnt</th>\n",
       "      <th>entrance_cnt</th>\n",
       "      <th>apartment_cnt</th>\n",
       "      <th>lat</th>\n",
       "      <th>lon</th>\n",
       "      <th>area</th>\n",
       "      <th>district</th>\n",
       "      <th>population</th>\n",
       "      <th>type</th>\n",
       "      <th>description</th>\n",
       "    </tr>\n",
       "  </thead>\n",
       "  <tbody>\n",
       "    <tr>\n",
       "      <th>0</th>\n",
       "      <td>пр-кт. Мира, д. 188 Б, к. 1, Москва</td>\n",
       "      <td>54804.10</td>\n",
       "      <td>2014</td>\n",
       "      <td>58</td>\n",
       "      <td>1</td>\n",
       "      <td>370.0</td>\n",
       "      <td>55.834472</td>\n",
       "      <td>37.658050</td>\n",
       "      <td>Северо-Восточный административный округ</td>\n",
       "      <td>Ростокино</td>\n",
       "      <td>1110.0</td>\n",
       "      <td>house</td>\n",
       "      <td>Многоквартирный жилой дом</td>\n",
       "    </tr>\n",
       "    <tr>\n",
       "      <th>1</th>\n",
       "      <td>пр-кт. Мира, д. 188Б, к. 3, Москва</td>\n",
       "      <td>53253.20</td>\n",
       "      <td>2015</td>\n",
       "      <td>58</td>\n",
       "      <td>1</td>\n",
       "      <td>356.0</td>\n",
       "      <td>55.835483</td>\n",
       "      <td>37.658338</td>\n",
       "      <td>Северо-Восточный административный округ</td>\n",
       "      <td>Ростокино</td>\n",
       "      <td>1068.0</td>\n",
       "      <td>house</td>\n",
       "      <td>Многоквартирный жилой дом</td>\n",
       "    </tr>\n",
       "  </tbody>\n",
       "</table>\n",
       "</div>"
      ],
      "text/plain": [
       "                               address square, m2  year floor_cnt  \\\n",
       "0  пр-кт. Мира, д. 188 Б, к. 1, Москва   54804.10  2014        58   \n",
       "1   пр-кт. Мира, д. 188Б, к. 3, Москва   53253.20  2015        58   \n",
       "\n",
       "  entrance_cnt  apartment_cnt        lat        lon  \\\n",
       "0            1          370.0  55.834472  37.658050   \n",
       "1            1          356.0  55.835483  37.658338   \n",
       "\n",
       "                                      area   district  population   type  \\\n",
       "0  Северо-Восточный административный округ  Ростокино      1110.0  house   \n",
       "1  Северо-Восточный административный округ  Ростокино      1068.0  house   \n",
       "\n",
       "                 description  \n",
       "0  Многоквартирный жилой дом  \n",
       "1  Многоквартирный жилой дом  "
      ]
     },
     "execution_count": 1405,
     "metadata": {},
     "output_type": "execute_result"
    }
   ],
   "source": [
    "house_reester_.head(2)"
   ]
  },
  {
   "cell_type": "code",
   "execution_count": 1389,
   "id": "83cbb49d",
   "metadata": {},
   "outputs": [],
   "source": [
    "house_reester_['lat'] = house_reester_['lat'].astype(float)\n",
    "house_reester_['lon'] = house_reester_['lon'].astype(float)"
   ]
  },
  {
   "cell_type": "code",
   "execution_count": 1390,
   "id": "090c95a4",
   "metadata": {},
   "outputs": [],
   "source": [
    "house_reester_['population'] = house_reester_['population'].astype(float)"
   ]
  },
  {
   "cell_type": "code",
   "execution_count": 1391,
   "id": "0a089670",
   "metadata": {},
   "outputs": [],
   "source": [
    "def calculate_distance_for_point(point, houses):\n",
    "    lats = np.array(houses[\"lat\"])\n",
    "    lons = np.array(houses[\"lon\"])\n",
    "    lat_dist = (lats - point['lat']) * 111.37\n",
    "    lon_dist = (lons - point['lon']) * np.cos(point['lat'] * np.pi / 180) * 111.37\n",
    "    return np.sqrt(lon_dist ** 2 + lat_dist ** 2)"
   ]
  },
  {
   "cell_type": "code",
   "execution_count": 1392,
   "id": "fa40da96",
   "metadata": {},
   "outputs": [
    {
     "name": "stderr",
     "output_type": "stream",
     "text": [
      "100%|██████████| 37124/37124 [00:18<00:00, 2058.90it/s]\n"
     ]
    }
   ],
   "source": [
    "neighbors_for_point = []\n",
    "for _, point in tqdm(all_candidates.iterrows(), total=all_candidates.shape[0]):\n",
    "    distances = calculate_distance_for_point(point, house_reester_)\n",
    "    neighbors_for_point.append(set(house_reester_.index[distances < RADIUS]))\n"
   ]
  },
  {
   "cell_type": "code",
   "execution_count": 1393,
   "id": "9ddef0ac",
   "metadata": {},
   "outputs": [
    {
     "data": {
      "text/plain": [
       "[{455,\n",
       "  456,\n",
       "  809,\n",
       "  1819,\n",
       "  1820,\n",
       "  1900,\n",
       "  3969,\n",
       "  3986,\n",
       "  3987,\n",
       "  3989,\n",
       "  3990,\n",
       "  5435,\n",
       "  10412,\n",
       "  10939,\n",
       "  10940,\n",
       "  10974,\n",
       "  10977,\n",
       "  10979}]"
      ]
     },
     "execution_count": 1393,
     "metadata": {},
     "output_type": "execute_result"
    }
   ],
   "source": [
    "neighbors_for_point[:1]"
   ]
  },
  {
   "cell_type": "code",
   "execution_count": 1394,
   "id": "41c6104d",
   "metadata": {},
   "outputs": [
    {
     "name": "stderr",
     "output_type": "stream",
     "text": [
      "100%|██████████| 37124/37124 [00:22<00:00, 1681.87it/s]\n"
     ]
    }
   ],
   "source": [
    "populations = []\n",
    "for i, _ in tqdm(all_candidates.iterrows(), total=all_candidates.shape[0]):\n",
    "    populations.append(house_reester_.loc[list(neighbors_for_point[i])]['population'].sum())"
   ]
  },
  {
   "cell_type": "code",
   "execution_count": 1398,
   "id": "eb50473c",
   "metadata": {},
   "outputs": [],
   "source": [
    "all_candidates['coverage'] = populations"
   ]
  },
  {
   "cell_type": "code",
   "execution_count": 1400,
   "id": "c8824915",
   "metadata": {},
   "outputs": [
    {
     "data": {
      "text/html": [
       "<div>\n",
       "<style scoped>\n",
       "    .dataframe tbody tr th:only-of-type {\n",
       "        vertical-align: middle;\n",
       "    }\n",
       "\n",
       "    .dataframe tbody tr th {\n",
       "        vertical-align: top;\n",
       "    }\n",
       "\n",
       "    .dataframe thead th {\n",
       "        text-align: right;\n",
       "    }\n",
       "</style>\n",
       "<table border=\"1\" class=\"dataframe\">\n",
       "  <thead>\n",
       "    <tr style=\"text-align: right;\">\n",
       "      <th></th>\n",
       "      <th>title</th>\n",
       "      <th>description</th>\n",
       "      <th>type</th>\n",
       "      <th>lat</th>\n",
       "      <th>lon</th>\n",
       "      <th>area</th>\n",
       "      <th>district</th>\n",
       "      <th>address</th>\n",
       "      <th>square, m2</th>\n",
       "      <th>year</th>\n",
       "      <th>floor_cnt</th>\n",
       "      <th>entrance_cnt</th>\n",
       "      <th>apartment_cnt</th>\n",
       "      <th>population</th>\n",
       "      <th>pvz_cnt</th>\n",
       "      <th>station_cnt</th>\n",
       "      <th>station_dist</th>\n",
       "      <th>passenger_flow</th>\n",
       "      <th>dist_to_center</th>\n",
       "      <th>coverage</th>\n",
       "    </tr>\n",
       "  </thead>\n",
       "  <tbody>\n",
       "    <tr>\n",
       "      <th>0</th>\n",
       "      <td>ГБУК г. Москвы «ОКЦ ЮАО», Библиотека №140</td>\n",
       "      <td>Библиотека</td>\n",
       "      <td>library</td>\n",
       "      <td>55.583967</td>\n",
       "      <td>37.685992</td>\n",
       "      <td>Южный административный округ</td>\n",
       "      <td>Бирюлёво Восточное</td>\n",
       "      <td>Российская Федерация, город Москва, внутригоро...</td>\n",
       "      <td></td>\n",
       "      <td></td>\n",
       "      <td></td>\n",
       "      <td></td>\n",
       "      <td></td>\n",
       "      <td></td>\n",
       "      <td>1</td>\n",
       "      <td>0</td>\n",
       "      <td>5.000000</td>\n",
       "      <td>-0.512940</td>\n",
       "      <td>19.130877</td>\n",
       "      <td>14856.0</td>\n",
       "    </tr>\n",
       "    <tr>\n",
       "      <th>1</th>\n",
       "      <td>ГБУК г. Москвы «ОКЦ ЮАО», Библиотека №166 им. ...</td>\n",
       "      <td>Библиотека</td>\n",
       "      <td>library</td>\n",
       "      <td>55.708619</td>\n",
       "      <td>37.586619</td>\n",
       "      <td>Южный административный округ</td>\n",
       "      <td>Донской</td>\n",
       "      <td>Российская Федерация, город Москва, внутригоро...</td>\n",
       "      <td></td>\n",
       "      <td></td>\n",
       "      <td></td>\n",
       "      <td></td>\n",
       "      <td></td>\n",
       "      <td></td>\n",
       "      <td>3</td>\n",
       "      <td>2</td>\n",
       "      <td>0.059873</td>\n",
       "      <td>1.180246</td>\n",
       "      <td>5.196476</td>\n",
       "      <td>7980.0</td>\n",
       "    </tr>\n",
       "    <tr>\n",
       "      <th>2</th>\n",
       "      <td>ГБУК г. Москвы «ОКЦ ЮЗАО», Библиотека №169 «Пр...</td>\n",
       "      <td>Библиотека</td>\n",
       "      <td>library</td>\n",
       "      <td>55.646156</td>\n",
       "      <td>37.477928</td>\n",
       "      <td>Юго-Западный административный округ</td>\n",
       "      <td>Тёплый Стан</td>\n",
       "      <td>город Москва, Ленинский проспект, дом 127</td>\n",
       "      <td></td>\n",
       "      <td></td>\n",
       "      <td></td>\n",
       "      <td></td>\n",
       "      <td></td>\n",
       "      <td></td>\n",
       "      <td>2</td>\n",
       "      <td>1</td>\n",
       "      <td>0.226232</td>\n",
       "      <td>0.665045</td>\n",
       "      <td>14.712966</td>\n",
       "      <td>13377.0</td>\n",
       "    </tr>\n",
       "    <tr>\n",
       "      <th>4</th>\n",
       "      <td>ГБУК г. Москвы «ОКЦ ЮВАО», Библиотека №115</td>\n",
       "      <td>Библиотека</td>\n",
       "      <td>library</td>\n",
       "      <td>55.708541</td>\n",
       "      <td>37.782957</td>\n",
       "      <td>Юго-Восточный административный округ</td>\n",
       "      <td>Кузьминки</td>\n",
       "      <td>Российская Федерация, город Москва, внутригоро...</td>\n",
       "      <td></td>\n",
       "      <td></td>\n",
       "      <td></td>\n",
       "      <td></td>\n",
       "      <td></td>\n",
       "      <td></td>\n",
       "      <td>1</td>\n",
       "      <td>0</td>\n",
       "      <td>5.000000</td>\n",
       "      <td>-0.512940</td>\n",
       "      <td>11.340570</td>\n",
       "      <td>18969.0</td>\n",
       "    </tr>\n",
       "    <tr>\n",
       "      <th>5</th>\n",
       "      <td>ГБУК г. Москвы «ОКЦ ЮАО», Детская библиотека №153</td>\n",
       "      <td>Библиотека</td>\n",
       "      <td>library</td>\n",
       "      <td>55.621616</td>\n",
       "      <td>37.753725</td>\n",
       "      <td>Южный административный округ</td>\n",
       "      <td>Зябликово</td>\n",
       "      <td>Российская Федерация, город Москва, внутригоро...</td>\n",
       "      <td></td>\n",
       "      <td></td>\n",
       "      <td></td>\n",
       "      <td></td>\n",
       "      <td></td>\n",
       "      <td></td>\n",
       "      <td>3</td>\n",
       "      <td>0</td>\n",
       "      <td>5.000000</td>\n",
       "      <td>-0.512940</td>\n",
       "      <td>16.763201</td>\n",
       "      <td>20394.0</td>\n",
       "    </tr>\n",
       "  </tbody>\n",
       "</table>\n",
       "</div>"
      ],
      "text/plain": [
       "                                               title description     type  \\\n",
       "0          ГБУК г. Москвы «ОКЦ ЮАО», Библиотека №140  Библиотека  library   \n",
       "1  ГБУК г. Москвы «ОКЦ ЮАО», Библиотека №166 им. ...  Библиотека  library   \n",
       "2  ГБУК г. Москвы «ОКЦ ЮЗАО», Библиотека №169 «Пр...  Библиотека  library   \n",
       "4         ГБУК г. Москвы «ОКЦ ЮВАО», Библиотека №115  Библиотека  library   \n",
       "5  ГБУК г. Москвы «ОКЦ ЮАО», Детская библиотека №153  Библиотека  library   \n",
       "\n",
       "         lat        lon                                  area  \\\n",
       "0  55.583967  37.685992          Южный административный округ   \n",
       "1  55.708619  37.586619          Южный административный округ   \n",
       "2  55.646156  37.477928   Юго-Западный административный округ   \n",
       "4  55.708541  37.782957  Юго-Восточный административный округ   \n",
       "5  55.621616  37.753725          Южный административный округ   \n",
       "\n",
       "             district                                            address  \\\n",
       "0  Бирюлёво Восточное  Российская Федерация, город Москва, внутригоро...   \n",
       "1             Донской  Российская Федерация, город Москва, внутригоро...   \n",
       "2         Тёплый Стан          город Москва, Ленинский проспект, дом 127   \n",
       "4           Кузьминки  Российская Федерация, город Москва, внутригоро...   \n",
       "5           Зябликово  Российская Федерация, город Москва, внутригоро...   \n",
       "\n",
       "  square, m2 year floor_cnt entrance_cnt apartment_cnt population  pvz_cnt  \\\n",
       "0                                                                        1   \n",
       "1                                                                        3   \n",
       "2                                                                        2   \n",
       "4                                                                        1   \n",
       "5                                                                        3   \n",
       "\n",
       "   station_cnt  station_dist  passenger_flow  dist_to_center  coverage  \n",
       "0            0      5.000000       -0.512940       19.130877   14856.0  \n",
       "1            2      0.059873        1.180246        5.196476    7980.0  \n",
       "2            1      0.226232        0.665045       14.712966   13377.0  \n",
       "4            0      5.000000       -0.512940       11.340570   18969.0  \n",
       "5            0      5.000000       -0.512940       16.763201   20394.0  "
      ]
     },
     "execution_count": 1400,
     "metadata": {},
     "output_type": "execute_result"
    }
   ],
   "source": [
    "all_candidates.head()"
   ]
  },
  {
   "cell_type": "code",
   "execution_count": 1403,
   "id": "37da4194",
   "metadata": {},
   "outputs": [
    {
     "data": {
      "image/png": "[encoded data removed]",
      "text/plain": [
       "<Figure size 432x288 with 1 Axes>"
      ]
     },
     "metadata": {},
     "output_type": "display_data"
    }
   ],
   "source": [
    "plt.hist(all_candidates['coverage'], bins=40)\n",
    "plt.xlabel('Coverage')\n",
    "plt.title('Coverage distribution')\n",
    "plt.show()"
   ]
  },
  {
   "cell_type": "markdown",
   "id": "11caa521",
   "metadata": {},
   "source": [
    "Так, мы спроектировали достаточно разносторонние метрики, отражающие внешние факторы, которые могут влиять на удобство той или иной локации для расположения постамата."
   ]
  }
 ],
 "metadata": {
  "kernelspec": {
   "display_name": "Python 3 (ipykernel)",
   "language": "python",
   "name": "python3"
  },
  "language_info": {
   "codemirror_mode": {
    "name": "ipython",
    "version": 3
   },
   "file_extension": ".py",
   "mimetype": "text/x-python",
   "name": "python",
   "nbconvert_exporter": "python",
   "pygments_lexer": "ipython3",
   "version": "3.10.8"
  }
 },
 "nbformat": 4,
 "nbformat_minor": 5
}
