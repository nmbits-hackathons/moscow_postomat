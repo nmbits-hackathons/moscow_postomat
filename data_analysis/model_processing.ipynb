{
 "cells": [
  {
   "cell_type": "markdown",
   "id": "05c884bc",
   "metadata": {},
   "source": [
    "# Задача 10. Рекомендательный сервис для определения оптимальных мест размещения постаматов в рамках проекта \"Московский постамат\"\n",
    "\n",
    "**Задача:** Разработать сервис для предоставления рекомендаций по оптимальному размещению постаматов возле городских киосков или на городской территории с точки зрения потенциальной востребованности постамата у жителей города (далее – сервис). \n",
    "\n",
    "\n",
    "Сервис позволит повысить востребованность устанавливаемых постаматов, а также обеспечить доступность удобного и безопасного способа доставки для наибольшего количества москвичей."
   ]
  },
  {
   "cell_type": "code",
   "execution_count": 29,
   "id": "cc8dc78a",
   "metadata": {},
   "outputs": [],
   "source": [
    "import pandas as pd\n",
    "import numpy as np\n",
    "import matplotlib.pyplot as plt"
   ]
  },
  {
   "cell_type": "code",
   "execution_count": 9,
   "id": "90a8966f",
   "metadata": {},
   "outputs": [
    {
     "name": "stderr",
     "output_type": "stream",
     "text": [
      "/var/folders/f5/f6tlzch97_542qvp_7hrb6880000gq/T/ipykernel_24096/239425083.py:1: DtypeWarning: Columns (1,12) have mixed types. Specify dtype option on import or set low_memory=False.\n",
      "  data = pd.read_csv('preprocessed_dataset.csv', index_col=0)\n"
     ]
    }
   ],
   "source": [
    "data = pd.read_csv('preprocessed_dataset.csv', index_col=0)"
   ]
  },
  {
   "cell_type": "code",
   "execution_count": 14,
   "id": "c36b6566",
   "metadata": {},
   "outputs": [],
   "source": [
    "# Отнормируем пассажиропоток\n",
    "data['passenger_flow_n'] = (data['passenger_flow'] - data['passenger_flow'].min()) /\\\n",
    "    (data['passenger_flow'].max() - data['passenger_flow'].min())"
   ]
  },
  {
   "cell_type": "code",
   "execution_count": 53,
   "id": "4428d33b",
   "metadata": {},
   "outputs": [],
   "source": [
    "pvz_info = pd.read_csv('pvz_merged.csv')"
   ]
  },
  {
   "cell_type": "markdown",
   "id": "193b787f",
   "metadata": {},
   "source": [
    "## 2. Обучение моделей"
   ]
  },
  {
   "cell_type": "markdown",
   "id": "3abd4d2b",
   "metadata": {},
   "source": [
    "Основой для дальнейшего построения покрытия города будут оценки потенциальных мест, посчитанные той или иной моделью. Ожидается ранжирование точек по убыванию коэффициентов, посчитанных моделью."
   ]
  },
  {
   "cell_type": "markdown",
   "id": "e5c4a514",
   "metadata": {},
   "source": [
    "### 2.1 Экспертная, или математическая модель\n",
    "\n",
    "Основная идея данной модели заключается в наибольшей интерпретируемости – она учитывает в себе ряд метрик, при этом их комбинация построена исходя из общих соображений, выработанных эмпирическим путем."
   ]
  },
  {
   "cell_type": "code",
   "execution_count": null,
   "id": "ef75fda7",
   "metadata": {},
   "outputs": [],
   "source": [
    "all_candidates[\"\"]"
   ]
  },
  {
   "cell_type": "markdown",
   "id": "4ccc837e",
   "metadata": {},
   "source": [
    "Учитываем приоритет на типы локаций."
   ]
  },
  {
   "cell_type": "code",
   "execution_count": 20,
   "id": "5a3542f2",
   "metadata": {},
   "outputs": [],
   "source": [
    "type_to_indicator = {\n",
    "  \"kiosk\": 0.5,\n",
    "  \"multifunctional\": 0.4,\n",
    "  \"library\": 0.3,\n",
    "  \"culture_house\": 0.2,\n",
    "  \"sports\": 0.1,\n",
    "  \"house\": 0,\n",
    "  \"underground\": 0  \n",
    "}"
   ]
  },
  {
   "cell_type": "markdown",
   "id": "3ab11d49",
   "metadata": {},
   "source": [
    "1. Учёт расстояния до станции нормируем в отрезок от 0 до 0.9, используя функцию сигмоиды:\n",
    "$$\\dfrac{1}{1 + \\exp\\left(\\alpha \\cdot dist + \\beta\\right)},$$\n",
    "где $\\alpha$ и $\\beta$ подбирались из таких соображений, чтобы к расстоянию 2км до ближайшей станции вклад этого слагаемого уходил в ноль.\n",
    "\n",
    "2. Количество пвз конкурентов сравниваем с максимальным, которое располагается в окрестности 500 метров до потенциального расположения постамата – нормируем количество пвз в окрестности на максимальное зафиксированное количество пвз.\n",
    "\n",
    "3. Аналогично поступаем со станциями метро/МЦД/МЦК.\n",
    "\n",
    "4. Аналогично поступаем с покрытием, учитывая с коэффициентом 1.5, как более значимый.\n",
    "\n",
    "5. Пассажиропоток нормируем в отрезок от 0 до 1 и учитываем с коэффициентом 0.5, как менее значимый.\n",
    "\n",
    "6. Тип здания учитываем в соответствии с ТЗ."
   ]
  },
  {
   "cell_type": "code",
   "execution_count": 18,
   "id": "6d26844c",
   "metadata": {},
   "outputs": [],
   "source": [
    "all_candidates = data.copy()"
   ]
  },
  {
   "cell_type": "code",
   "execution_count": 21,
   "id": "2a90e3f5",
   "metadata": {},
   "outputs": [],
   "source": [
    "all_candidates['type_ind'] = all_candidates['type'].apply(lambda x: type_to_indicator[x])"
   ]
  },
  {
   "cell_type": "code",
   "execution_count": 39,
   "id": "53aaa2da",
   "metadata": {},
   "outputs": [],
   "source": [
    "all_candidates['indicator'] = all_candidates['pvz_cnt'] / all_candidates['pvz_cnt'].max() + \\\n",
    "    all_candidates['station_cnt'] / all_candidates['station_cnt'].max() + \\\n",
    "    1 / (1 + np.exp(2.6 * all_candidates['station_dist'] - 2.2)) + \\\n",
    "    all_candidates['passenger_flow_n'] * 0.5 + all_candidates['type_ind'] +\\\n",
    "    all_candidates['coverage'] / all_candidates['coverage'].max() * 1.5"
   ]
  },
  {
   "cell_type": "code",
   "execution_count": 40,
   "id": "990ca342",
   "metadata": {},
   "outputs": [],
   "source": [
    "all_candidates['indicator'] = (all_candidates['indicator'] - all_candidates['indicator'].min()) /\\\n",
    "    (all_candidates['indicator'].max() - all_candidates['indicator'].min()) * 10"
   ]
  },
  {
   "cell_type": "code",
   "execution_count": 41,
   "id": "745fc543",
   "metadata": {},
   "outputs": [
    {
     "data": {
      "text/plain": [
       "(10.0, 0.0)"
      ]
     },
     "execution_count": 41,
     "metadata": {},
     "output_type": "execute_result"
    }
   ],
   "source": [
    "all_candidates['indicator'].max(), all_candidates['indicator'].min()"
   ]
  },
  {
   "cell_type": "code",
   "execution_count": 42,
   "id": "bb596e86",
   "metadata": {},
   "outputs": [
    {
     "data": {
      "text/html": [
       "<div>\n",
       "<style scoped>\n",
       "    .dataframe tbody tr th:only-of-type {\n",
       "        vertical-align: middle;\n",
       "    }\n",
       "\n",
       "    .dataframe tbody tr th {\n",
       "        vertical-align: top;\n",
       "    }\n",
       "\n",
       "    .dataframe thead th {\n",
       "        text-align: right;\n",
       "    }\n",
       "</style>\n",
       "<table border=\"1\" class=\"dataframe\">\n",
       "  <thead>\n",
       "    <tr style=\"text-align: right;\">\n",
       "      <th></th>\n",
       "    </tr>\n",
       "  </thead>\n",
       "  <tbody>\n",
       "  </tbody>\n",
       "</table>\n",
       "</div>"
      ],
      "text/plain": [
       "Empty DataFrame\n",
       "Columns: []\n",
       "Index: []"
      ]
     },
     "execution_count": 42,
     "metadata": {},
     "output_type": "execute_result"
    }
   ],
   "source": [
    "all_candidates.to_csv('./math_model_result.csv')"
   ]
  },
  {
   "cell_type": "markdown",
   "id": "98692fcb",
   "metadata": {},
   "source": [
    "### 2.2 Двустадийная модель"
   ]
  },
  {
   "cell_type": "markdown",
   "id": "dd62f2bd",
   "metadata": {},
   "source": [
    "Будем классифицировать потенциальные точки для расстановки постаматов, обучаясь на уже расставленных постаматах \"конкурентов\".\n",
    "\n",
    "Далее те места, которые обученный классификатор предсказывает, как относящиеся к классу постаматов, ранжируем в соответствии с известной математической формулой."
   ]
  },
  {
   "cell_type": "code",
   "execution_count": 119,
   "id": "a60370c1",
   "metadata": {},
   "outputs": [],
   "source": [
    "from sklearn.datasets import make_blobs\n",
    "from sklearn.linear_model import LogisticRegression\n",
    "from sklearn.model_selection import train_test_split\n",
    "from sklearn.metrics import (\n",
    "    accuracy_score, precision_score, recall_score, f1_score, roc_auc_score,\n",
    "    confusion_matrix\n",
    ")\n",
    "\n",
    "import seaborn as sns\n",
    "import matplotlib.pyplot as plt\n",
    "\n",
    "sns.set(style='dark', font_scale=1.7)"
   ]
  },
  {
   "cell_type": "code",
   "execution_count": 123,
   "id": "93950756",
   "metadata": {},
   "outputs": [
    {
     "data": {
      "text/html": [
       "<div>\n",
       "<style scoped>\n",
       "    .dataframe tbody tr th:only-of-type {\n",
       "        vertical-align: middle;\n",
       "    }\n",
       "\n",
       "    .dataframe tbody tr th {\n",
       "        vertical-align: top;\n",
       "    }\n",
       "\n",
       "    .dataframe thead th {\n",
       "        text-align: right;\n",
       "    }\n",
       "</style>\n",
       "<table border=\"1\" class=\"dataframe\">\n",
       "  <thead>\n",
       "    <tr style=\"text-align: right;\">\n",
       "      <th></th>\n",
       "      <th>title</th>\n",
       "      <th>description</th>\n",
       "      <th>type</th>\n",
       "      <th>lat</th>\n",
       "      <th>lon</th>\n",
       "      <th>area</th>\n",
       "      <th>district</th>\n",
       "      <th>address</th>\n",
       "      <th>square, m2</th>\n",
       "      <th>year</th>\n",
       "      <th>...</th>\n",
       "      <th>population</th>\n",
       "      <th>pvz_cnt</th>\n",
       "      <th>station_cnt</th>\n",
       "      <th>station_dist</th>\n",
       "      <th>passenger_flow</th>\n",
       "      <th>dist_to_center</th>\n",
       "      <th>coverage</th>\n",
       "      <th>indicator</th>\n",
       "      <th>passenger_flow_n</th>\n",
       "      <th>type_ind</th>\n",
       "    </tr>\n",
       "  </thead>\n",
       "  <tbody>\n",
       "    <tr>\n",
       "      <th>0</th>\n",
       "      <td>ГБУК г. Москвы «ОКЦ ЮАО», Библиотека №140</td>\n",
       "      <td>Библиотека</td>\n",
       "      <td>library</td>\n",
       "      <td>55.583967</td>\n",
       "      <td>37.685992</td>\n",
       "      <td>Южный административный округ</td>\n",
       "      <td>Бирюлёво Восточное</td>\n",
       "      <td>Российская Федерация, город Москва, внутригоро...</td>\n",
       "      <td>NaN</td>\n",
       "      <td>NaN</td>\n",
       "      <td>...</td>\n",
       "      <td>NaN</td>\n",
       "      <td>1</td>\n",
       "      <td>0</td>\n",
       "      <td>5.000000</td>\n",
       "      <td>-0.512940</td>\n",
       "      <td>19.130877</td>\n",
       "      <td>14856.0</td>\n",
       "      <td>2.171303</td>\n",
       "      <td>0.000000</td>\n",
       "      <td>0.3</td>\n",
       "    </tr>\n",
       "    <tr>\n",
       "      <th>1</th>\n",
       "      <td>ГБУК г. Москвы «ОКЦ ЮАО», Библиотека №166 им. ...</td>\n",
       "      <td>Библиотека</td>\n",
       "      <td>library</td>\n",
       "      <td>55.708619</td>\n",
       "      <td>37.586619</td>\n",
       "      <td>Южный административный округ</td>\n",
       "      <td>Донской</td>\n",
       "      <td>Российская Федерация, город Москва, внутригоро...</td>\n",
       "      <td>NaN</td>\n",
       "      <td>NaN</td>\n",
       "      <td>...</td>\n",
       "      <td>NaN</td>\n",
       "      <td>3</td>\n",
       "      <td>2</td>\n",
       "      <td>0.059873</td>\n",
       "      <td>1.180246</td>\n",
       "      <td>5.196476</td>\n",
       "      <td>7980.0</td>\n",
       "      <td>5.979018</td>\n",
       "      <td>0.325828</td>\n",
       "      <td>0.3</td>\n",
       "    </tr>\n",
       "  </tbody>\n",
       "</table>\n",
       "<p>2 rows × 23 columns</p>\n",
       "</div>"
      ],
      "text/plain": [
       "                                               title description     type  \\\n",
       "0          ГБУК г. Москвы «ОКЦ ЮАО», Библиотека №140  Библиотека  library   \n",
       "1  ГБУК г. Москвы «ОКЦ ЮАО», Библиотека №166 им. ...  Библиотека  library   \n",
       "\n",
       "         lat        lon                          area            district  \\\n",
       "0  55.583967  37.685992  Южный административный округ  Бирюлёво Восточное   \n",
       "1  55.708619  37.586619  Южный административный округ             Донской   \n",
       "\n",
       "                                             address  square, m2  year  ...  \\\n",
       "0  Российская Федерация, город Москва, внутригоро...         NaN   NaN  ...   \n",
       "1  Российская Федерация, город Москва, внутригоро...         NaN   NaN  ...   \n",
       "\n",
       "   population pvz_cnt  station_cnt  station_dist  passenger_flow  \\\n",
       "0         NaN       1            0      5.000000       -0.512940   \n",
       "1         NaN       3            2      0.059873        1.180246   \n",
       "\n",
       "   dist_to_center  coverage  indicator  passenger_flow_n  type_ind  \n",
       "0       19.130877   14856.0   2.171303          0.000000       0.3  \n",
       "1        5.196476    7980.0   5.979018          0.325828       0.3  \n",
       "\n",
       "[2 rows x 23 columns]"
      ]
     },
     "execution_count": 123,
     "metadata": {},
     "output_type": "execute_result"
    }
   ],
   "source": [
    "all_candidates.head(2)"
   ]
  },
  {
   "cell_type": "markdown",
   "id": "fdc3024a",
   "metadata": {},
   "source": [
    "Обогатим датасет ПВЗ примерами мест, где ПВЗ не расположены – это будут отрицательные примеры для модели классификации. При этом будем брать наиболее далеко расположенные от постаматов места."
   ]
  },
  {
   "cell_type": "code",
   "execution_count": 176,
   "id": "bce6da65",
   "metadata": {},
   "outputs": [],
   "source": [
    "train = all_candidates.copy()\n",
    "train['pvz_dist'] = train['station_dist']"
   ]
  },
  {
   "cell_type": "code",
   "execution_count": 177,
   "id": "b3b97838",
   "metadata": {},
   "outputs": [],
   "source": [
    "test = pvz_info.copy()\n",
    "test = test.append(train.copy().sort_values(by='pvz_dist', ascending=False).iloc[:len(test),:])[pvz_info.columns]\n",
    "test = test[list(set(pvz_info.columns) & set(train.columns))[1:]]\n",
    "\n",
    "train = train.sort_values(by='pvz_dist', ascending=False).iloc[len(test):,:]\n",
    "train = train[list(set(pvz_info.columns) & set(train.columns))[1:]]\n",
    "test['marker'] = [1] * len(pvz_info) + [0] * len(pvz_info)"
   ]
  },
  {
   "cell_type": "code",
   "execution_count": 191,
   "id": "b3bc7aa4",
   "metadata": {},
   "outputs": [],
   "source": [
    "from sklearn.model_selection import train_test_split"
   ]
  },
  {
   "cell_type": "code",
   "execution_count": 192,
   "id": "e1e86a43",
   "metadata": {},
   "outputs": [],
   "source": [
    "X_train, X_test, y_train, y_test = train_test_split(\n",
    "    test.drop('marker', axis=1), test['marker'], test_size=0.33, random_state=42)"
   ]
  },
  {
   "cell_type": "code",
   "execution_count": 194,
   "id": "1706001a",
   "metadata": {},
   "outputs": [
    {
     "data": {
      "text/html": [
       "<style>#sk-container-id-3 {color: black;background-color: white;}#sk-container-id-3 pre{padding: 0;}#sk-container-id-3 div.sk-toggleable {background-color: white;}#sk-container-id-3 label.sk-toggleable__label {cursor: pointer;display: block;width: 100%;margin-bottom: 0;padding: 0.3em;box-sizing: border-box;text-align: center;}#sk-container-id-3 label.sk-toggleable__label-arrow:before {content: \"▸\";float: left;margin-right: 0.25em;color: #696969;}#sk-container-id-3 label.sk-toggleable__label-arrow:hover:before {color: black;}#sk-container-id-3 div.sk-estimator:hover label.sk-toggleable__label-arrow:before {color: black;}#sk-container-id-3 div.sk-toggleable__content {max-height: 0;max-width: 0;overflow: hidden;text-align: left;background-color: #f0f8ff;}#sk-container-id-3 div.sk-toggleable__content pre {margin: 0.2em;color: black;border-radius: 0.25em;background-color: #f0f8ff;}#sk-container-id-3 input.sk-toggleable__control:checked~div.sk-toggleable__content {max-height: 200px;max-width: 100%;overflow: auto;}#sk-container-id-3 input.sk-toggleable__control:checked~label.sk-toggleable__label-arrow:before {content: \"▾\";}#sk-container-id-3 div.sk-estimator input.sk-toggleable__control:checked~label.sk-toggleable__label {background-color: #d4ebff;}#sk-container-id-3 div.sk-label input.sk-toggleable__control:checked~label.sk-toggleable__label {background-color: #d4ebff;}#sk-container-id-3 input.sk-hidden--visually {border: 0;clip: rect(1px 1px 1px 1px);clip: rect(1px, 1px, 1px, 1px);height: 1px;margin: -1px;overflow: hidden;padding: 0;position: absolute;width: 1px;}#sk-container-id-3 div.sk-estimator {font-family: monospace;background-color: #f0f8ff;border: 1px dotted black;border-radius: 0.25em;box-sizing: border-box;margin-bottom: 0.5em;}#sk-container-id-3 div.sk-estimator:hover {background-color: #d4ebff;}#sk-container-id-3 div.sk-parallel-item::after {content: \"\";width: 100%;border-bottom: 1px solid gray;flex-grow: 1;}#sk-container-id-3 div.sk-label:hover label.sk-toggleable__label {background-color: #d4ebff;}#sk-container-id-3 div.sk-serial::before {content: \"\";position: absolute;border-left: 1px solid gray;box-sizing: border-box;top: 0;bottom: 0;left: 50%;z-index: 0;}#sk-container-id-3 div.sk-serial {display: flex;flex-direction: column;align-items: center;background-color: white;padding-right: 0.2em;padding-left: 0.2em;position: relative;}#sk-container-id-3 div.sk-item {position: relative;z-index: 1;}#sk-container-id-3 div.sk-parallel {display: flex;align-items: stretch;justify-content: center;background-color: white;position: relative;}#sk-container-id-3 div.sk-item::before, #sk-container-id-3 div.sk-parallel-item::before {content: \"\";position: absolute;border-left: 1px solid gray;box-sizing: border-box;top: 0;bottom: 0;left: 50%;z-index: -1;}#sk-container-id-3 div.sk-parallel-item {display: flex;flex-direction: column;z-index: 1;position: relative;background-color: white;}#sk-container-id-3 div.sk-parallel-item:first-child::after {align-self: flex-end;width: 50%;}#sk-container-id-3 div.sk-parallel-item:last-child::after {align-self: flex-start;width: 50%;}#sk-container-id-3 div.sk-parallel-item:only-child::after {width: 0;}#sk-container-id-3 div.sk-dashed-wrapped {border: 1px dashed gray;margin: 0 0.4em 0.5em 0.4em;box-sizing: border-box;padding-bottom: 0.4em;background-color: white;}#sk-container-id-3 div.sk-label label {font-family: monospace;font-weight: bold;display: inline-block;line-height: 1.2em;}#sk-container-id-3 div.sk-label-container {text-align: center;}#sk-container-id-3 div.sk-container {/* jupyter's `normalize.less` sets `[hidden] { display: none; }` but bootstrap.min.css set `[hidden] { display: none !important; }` so we also need the `!important` here to be able to override the default hidden behavior on the sphinx rendered scikit-learn.org. See: https://github.com/scikit-learn/scikit-learn/issues/21755 */display: inline-block !important;position: relative;}#sk-container-id-3 div.sk-text-repr-fallback {display: none;}</style><div id=\"sk-container-id-3\" class=\"sk-top-container\"><div class=\"sk-text-repr-fallback\"><pre>LogisticRegression(random_state=42)</pre><b>In a Jupyter environment, please rerun this cell to show the HTML representation or trust the notebook. <br />On GitHub, the HTML representation is unable to render, please try loading this page with nbviewer.org.</b></div><div class=\"sk-container\" hidden><div class=\"sk-item\"><div class=\"sk-estimator sk-toggleable\"><input class=\"sk-toggleable__control sk-hidden--visually\" id=\"sk-estimator-id-3\" type=\"checkbox\" checked><label for=\"sk-estimator-id-3\" class=\"sk-toggleable__label sk-toggleable__label-arrow\">LogisticRegression</label><div class=\"sk-toggleable__content\"><pre>LogisticRegression(random_state=42)</pre></div></div></div></div></div>"
      ],
      "text/plain": [
       "LogisticRegression(random_state=42)"
      ]
     },
     "execution_count": 194,
     "metadata": {},
     "output_type": "execute_result"
    }
   ],
   "source": [
    "clf = LogisticRegression(random_state=42)\n",
    "clf.fit(X_train, y_train)"
   ]
  },
  {
   "cell_type": "code",
   "execution_count": 170,
   "id": "e466f9df",
   "metadata": {},
   "outputs": [
    {
     "name": "stdout",
     "output_type": "stream",
     "text": [
      "Accuracy: 0.872\n",
      "Precision = 0.901\n",
      "Recall = 0.782\n",
      "F1 = 0.798\n"
     ]
    }
   ],
   "source": [
    "accuracy = accuracy_score(y_test, clf.predict(X_test))\n",
    "print(f'Accuracy: {accuracy:.3f}')\n",
    "\n",
    "precision = precision_score(y_test, clf.predict(X_test))\n",
    "print(f'Precision = {precision:.3f}')\n",
    "\n",
    "recall = recall_score(y_test, clf.predict(X_test))\n",
    "print(f'Recall = {recall:.3f}')\n",
    "\n",
    "f1 = f1_score(y_test, clf.predict(X_test))\n",
    "print(f'F1 = {f1:.3f}')"
   ]
  },
  {
   "cell_type": "markdown",
   "id": "924d237e",
   "metadata": {},
   "source": [
    "Далее будем использовать ответ классификатора, как потенциальные места для расположения постамата. "
   ]
  },
  {
   "cell_type": "code",
   "execution_count": 204,
   "id": "f8052503",
   "metadata": {},
   "outputs": [],
   "source": [
    "preds = clf.predict(train)\n",
    "potential_places = train[preds == 1]"
   ]
  },
  {
   "cell_type": "code",
   "execution_count": 206,
   "id": "2e614916",
   "metadata": {},
   "outputs": [],
   "source": [
    "m2_candidates = pd.merge(potential_places, all_candidates, how='inner', on=['lat', 'lon'])"
   ]
  },
  {
   "cell_type": "code",
   "execution_count": 209,
   "id": "94ceef3f",
   "metadata": {},
   "outputs": [
    {
     "data": {
      "text/html": [
       "<div>\n",
       "<style scoped>\n",
       "    .dataframe tbody tr th:only-of-type {\n",
       "        vertical-align: middle;\n",
       "    }\n",
       "\n",
       "    .dataframe tbody tr th {\n",
       "        vertical-align: top;\n",
       "    }\n",
       "\n",
       "    .dataframe thead th {\n",
       "        text-align: right;\n",
       "    }\n",
       "</style>\n",
       "<table border=\"1\" class=\"dataframe\">\n",
       "  <thead>\n",
       "    <tr style=\"text-align: right;\">\n",
       "      <th></th>\n",
       "      <th>lon</th>\n",
       "      <th>lat</th>\n",
       "      <th>title</th>\n",
       "      <th>description</th>\n",
       "      <th>type</th>\n",
       "      <th>area</th>\n",
       "      <th>district</th>\n",
       "      <th>address</th>\n",
       "      <th>square, m2</th>\n",
       "      <th>year</th>\n",
       "      <th>...</th>\n",
       "      <th>population</th>\n",
       "      <th>pvz_cnt</th>\n",
       "      <th>station_cnt</th>\n",
       "      <th>station_dist</th>\n",
       "      <th>passenger_flow</th>\n",
       "      <th>dist_to_center_y</th>\n",
       "      <th>coverage_y</th>\n",
       "      <th>indicator</th>\n",
       "      <th>passenger_flow_n</th>\n",
       "      <th>type_ind</th>\n",
       "    </tr>\n",
       "  </thead>\n",
       "  <tbody>\n",
       "    <tr>\n",
       "      <th>0</th>\n",
       "      <td>37.854562</td>\n",
       "      <td>55.709885</td>\n",
       "      <td>NaN</td>\n",
       "      <td>Многоквартирный жилой дом</td>\n",
       "      <td>house</td>\n",
       "      <td>Восточный административный округ</td>\n",
       "      <td>Косино-Ухтомский</td>\n",
       "      <td>ул. Косинская Б., д. 12, Москва</td>\n",
       "      <td>10627.8</td>\n",
       "      <td>1972.0</td>\n",
       "      <td>...</td>\n",
       "      <td>432.0</td>\n",
       "      <td>1</td>\n",
       "      <td>0</td>\n",
       "      <td>5.0</td>\n",
       "      <td>-0.51294</td>\n",
       "      <td>15.483746</td>\n",
       "      <td>26889.0</td>\n",
       "      <td>2.376749</td>\n",
       "      <td>0.0</td>\n",
       "      <td>0.0</td>\n",
       "    </tr>\n",
       "    <tr>\n",
       "      <th>1</th>\n",
       "      <td>37.555149</td>\n",
       "      <td>55.745968</td>\n",
       "      <td>NaN</td>\n",
       "      <td>Многоквартирный жилой дом</td>\n",
       "      <td>house</td>\n",
       "      <td>Западный административный округ</td>\n",
       "      <td>Дорогомилово</td>\n",
       "      <td>ул. Дорогомиловская Б., д. 9, Москва</td>\n",
       "      <td>10668.0</td>\n",
       "      <td>1954.0</td>\n",
       "      <td>...</td>\n",
       "      <td>414.0</td>\n",
       "      <td>1</td>\n",
       "      <td>0</td>\n",
       "      <td>5.0</td>\n",
       "      <td>-0.51294</td>\n",
       "      <td>4.057709</td>\n",
       "      <td>38412.0</td>\n",
       "      <td>3.288607</td>\n",
       "      <td>0.0</td>\n",
       "      <td>0.0</td>\n",
       "    </tr>\n",
       "  </tbody>\n",
       "</table>\n",
       "<p>2 rows × 23 columns</p>\n",
       "</div>"
      ],
      "text/plain": [
       "         lon        lat title                description   type  \\\n",
       "0  37.854562  55.709885   NaN  Многоквартирный жилой дом  house   \n",
       "1  37.555149  55.745968   NaN  Многоквартирный жилой дом  house   \n",
       "\n",
       "                               area          district  \\\n",
       "0  Восточный административный округ  Косино-Ухтомский   \n",
       "1   Западный административный округ      Дорогомилово   \n",
       "\n",
       "                                address  square, m2    year  ...  population  \\\n",
       "0       ул. Косинская Б., д. 12, Москва     10627.8  1972.0  ...       432.0   \n",
       "1  ул. Дорогомиловская Б., д. 9, Москва     10668.0  1954.0  ...       414.0   \n",
       "\n",
       "  pvz_cnt  station_cnt  station_dist  passenger_flow  dist_to_center_y  \\\n",
       "0       1            0           5.0        -0.51294         15.483746   \n",
       "1       1            0           5.0        -0.51294          4.057709   \n",
       "\n",
       "   coverage_y  indicator  passenger_flow_n  type_ind  \n",
       "0     26889.0   2.376749               0.0       0.0  \n",
       "1     38412.0   3.288607               0.0       0.0  \n",
       "\n",
       "[2 rows x 23 columns]"
      ]
     },
     "execution_count": 209,
     "metadata": {},
     "output_type": "execute_result"
    }
   ],
   "source": [
    "m2_candidates.iloc[:,2:].head(2)"
   ]
  },
  {
   "cell_type": "code",
   "execution_count": 213,
   "id": "53d43b7b",
   "metadata": {},
   "outputs": [],
   "source": [
    "m2_candidates['indicator'] = m2_candidates['pvz_cnt'] / m2_candidates['pvz_cnt'].max() + \\\n",
    "    m2_candidates['station_cnt'] / m2_candidates['station_cnt'].max() + \\\n",
    "    1 / (1 + np.exp(2.6 * m2_candidates['station_dist'] - 2.2)) + \\\n",
    "    m2_candidates['passenger_flow_n'] * 0.5 + m2_candidates['type_ind'] +\\\n",
    "    m2_candidates['coverage_y'] / m2_candidates['coverage_y'].max() * 1.5"
   ]
  },
  {
   "cell_type": "code",
   "execution_count": 214,
   "id": "00fa34d6",
   "metadata": {},
   "outputs": [
    {
     "name": "stdout",
     "output_type": "stream",
     "text": [
      " \n"
     ]
    }
   ],
   "source": [
    "m2_candidates.to_csv('./two_step_model_result.csv')"
   ]
  },
  {
   "cell_type": "markdown",
   "id": "42baa15f",
   "metadata": {},
   "source": [
    "### 2.3 Нейронная модель"
   ]
  },
  {
   "cell_type": "markdown",
   "id": "16754f57",
   "metadata": {},
   "source": [
    "Обучим полносвязную нейронную сеть на имеющихся данных. В этом разделе она заменит этап классификации и будет отвечать на вопрос, подходит ли рассматриваемое место для того, чтобы поставить там постамат. Ранжировать подходящие точки будем математической формулой."
   ]
  },
  {
   "cell_type": "code",
   "execution_count": 221,
   "id": "cfb24b57",
   "metadata": {},
   "outputs": [],
   "source": [
    "import torch\n",
    "import torch.nn as nn\n",
    "import torch.nn.functional as F"
   ]
  },
  {
   "cell_type": "code",
   "execution_count": 380,
   "id": "d5720c1b",
   "metadata": {},
   "outputs": [],
   "source": [
    "df = test.sample(frac=1)"
   ]
  },
  {
   "cell_type": "code",
   "execution_count": 381,
   "id": "61e5334e",
   "metadata": {
    "scrolled": true
   },
   "outputs": [],
   "source": [
    "x = torch.tensor(df.drop('marker', axis=1).values.astype(np.float32))\n",
    "y = torch.tensor(df['marker'].values.astype(np.float32))"
   ]
  },
  {
   "cell_type": "code",
   "execution_count": 382,
   "id": "d4149fde",
   "metadata": {},
   "outputs": [],
   "source": [
    "num_features = x.shape[1]"
   ]
  },
  {
   "cell_type": "code",
   "execution_count": 383,
   "id": "49c7819e",
   "metadata": {},
   "outputs": [],
   "source": [
    "class ClassificationNeuralNetwork(nn.Module):\n",
    "    def __init__(self, input_shape = num_features, num_classes = 10, input_channels = 1):\n",
    "        super(self.__class__, self).__init__()\n",
    "        self.model = nn.Sequential(\n",
    "#             nn.Flatten(),\n",
    "            nn.Linear(input_shape, 64),\n",
    "            nn.ReLU(),\n",
    "#             nn.Dropout(p=0.5, inplace=False),\n",
    "            nn.Linear(64, 128),\n",
    "            nn.ReLU(),\n",
    "#             nn.Dropout(p=0.5, inplace=False),\n",
    "            nn.Linear(128, num_classes),\n",
    "            nn.Sigmoid()\n",
    "        )\n",
    "        \n",
    "    def forward(self, inp):       \n",
    "        out = self.model(inp)\n",
    "        return out"
   ]
  },
  {
   "cell_type": "code",
   "execution_count": 384,
   "id": "f163af5f",
   "metadata": {},
   "outputs": [],
   "source": [
    "model = ClassificationNeuralNetwork(num_classes=1)\n",
    "criterion = nn.BCELoss()\n",
    "optimizer = torch.optim.SGD(model.parameters(), lr=1e-1)\n",
    "\n",
    "N_iter = 500"
   ]
  },
  {
   "cell_type": "code",
   "execution_count": 389,
   "id": "3480a6a4",
   "metadata": {},
   "outputs": [],
   "source": [
    "for t in range(N_iter):\n",
    "    # Forward pass: Compute predicted y by passing x to the model\n",
    "    y_pred = model(x)\n",
    "\n",
    "    # Compute and print loss\n",
    "    loss = criterion(y_pred, y.unsqueeze(1))\n",
    "\n",
    "    # Zero gradients, perform a backward pass, and update the weights.\n",
    "    optimizer.zero_grad()\n",
    "    loss.backward()\n",
    "    optimizer.step()"
   ]
  },
  {
   "cell_type": "markdown",
   "id": "3b96f743",
   "metadata": {},
   "source": [
    "Используем полученную модель классификациии."
   ]
  },
  {
   "cell_type": "code",
   "execution_count": 357,
   "id": "9799283f",
   "metadata": {},
   "outputs": [],
   "source": [
    "final_marks = model(torch.tensor(train.values.astype(np.float32)))"
   ]
  },
  {
   "cell_type": "code",
   "execution_count": 366,
   "id": "823d2090",
   "metadata": {},
   "outputs": [],
   "source": [
    "marks_np = np.array(final_marks.flatten().detach().numpy())"
   ]
  },
  {
   "cell_type": "markdown",
   "id": "355b2b05",
   "metadata": {},
   "source": [
    "Зададим border_value, как 0.7, чтобы отсеять наиболее хорошие по результатам модели места."
   ]
  },
  {
   "cell_type": "code",
   "execution_count": 394,
   "id": "9eb4c33a",
   "metadata": {},
   "outputs": [],
   "source": [
    "border_value = 0.7"
   ]
  },
  {
   "cell_type": "code",
   "execution_count": 395,
   "id": "75bbe3b6",
   "metadata": {},
   "outputs": [],
   "source": [
    "potential_places = train[marks_np > border_value]"
   ]
  },
  {
   "cell_type": "code",
   "execution_count": 396,
   "id": "144430e2",
   "metadata": {},
   "outputs": [],
   "source": [
    "m_NN_candidates = pd.merge(potential_places, all_candidates, how='inner', on=['lat', 'lon'])"
   ]
  },
  {
   "cell_type": "code",
   "execution_count": 397,
   "id": "ab7d881b",
   "metadata": {},
   "outputs": [],
   "source": [
    "m_NN_candidates['indicator'] = m_NN_candidates['pvz_cnt'] / m_NN_candidates['pvz_cnt'].max() + \\\n",
    "    m_NN_candidates['station_cnt'] / m_NN_candidates['station_cnt'].max() + \\\n",
    "    1 / (1 + np.exp(2.6 * m_NN_candidates['station_dist'] - 2.2)) + \\\n",
    "    m_NN_candidates['passenger_flow_n'] * 0.5 + m_NN_candidates['type_ind'] +\\\n",
    "    m_NN_candidates['coverage_y'] / m_NN_candidates['coverage_y'].max() * 1.5"
   ]
  },
  {
   "cell_type": "code",
   "execution_count": 398,
   "id": "5acf33a1",
   "metadata": {},
   "outputs": [],
   "source": [
    "m_NN_candidates.to_csv('./black_box_model_model_result.csv')"
   ]
  }
 ],
 "metadata": {
  "kernelspec": {
   "display_name": "Python 3 (ipykernel)",
   "language": "python",
   "name": "python3"
  },
  "language_info": {
   "codemirror_mode": {
    "name": "ipython",
    "version": 3
   },
   "file_extension": ".py",
   "mimetype": "text/x-python",
   "name": "python",
   "nbconvert_exporter": "python",
   "pygments_lexer": "ipython3",
   "version": "3.10.8"
  }
 },
 "nbformat": 4,
 "nbformat_minor": 5
}
